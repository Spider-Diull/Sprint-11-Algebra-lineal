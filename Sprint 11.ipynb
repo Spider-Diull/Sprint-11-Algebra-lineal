{
 "cells": [
  {
   "cell_type": "markdown",
   "metadata": {},
   "source": [
    "# Descripción"
   ]
  },
  {
   "cell_type": "markdown",
   "metadata": {},
   "source": [
    "La compañía de seguros Sure Tomorrow quiere resolver varias tareas con la ayuda de machine learning y te pide que evalúes esa posibilidad.\n",
    "- Tarea 1: encontrar clientes que sean similares a un cliente determinado. Esto ayudará a los agentes de la compañía con el marketing.\n",
    "- Tarea 2: predecir la probabilidad de que un nuevo cliente reciba una prestación del seguro. ¿Puede un modelo de predictivo funcionar mejor que un modelo dummy?\n",
    "- Tarea 3: predecir el número de prestaciones de seguro que un nuevo cliente pueda recibir utilizando un modelo de regresión lineal.\n",
    "- Tarea 4: proteger los datos personales de los clientes sin afectar al modelo del ejercicio anterior. Es necesario desarrollar un algoritmo de transformación de datos que dificulte la recuperación de la información personal si los datos caen en manos equivocadas. Esto se denomina enmascaramiento u ofuscación de datos. Pero los datos deben protegerse de tal manera que no se vea afectada la calidad de los modelos de machine learning. No es necesario elegir el mejor modelo, basta con demostrar que el algoritmo funciona correctamente.\n"
   ]
  },
  {
   "cell_type": "markdown",
   "metadata": {},
   "source": [
    "# Preprocesamiento y exploración de datos\n",
    "\n",
    "## Inicialización"
   ]
  },
  {
   "cell_type": "code",
   "execution_count": 1,
   "metadata": {},
   "outputs": [
    {
     "name": "stdout",
     "output_type": "stream",
     "text": [
      "\u001b[33mWARNING: Ignoring invalid distribution - (/opt/conda/envs/python3/lib/python3.9/site-packages)\u001b[0m\u001b[33m\n",
      "\u001b[0m\u001b[33mWARNING: Ignoring invalid distribution -cikit-learn (/opt/conda/envs/python3/lib/python3.9/site-packages)\u001b[0m\u001b[33m\n",
      "\u001b[0m\u001b[33mWARNING: Ignoring invalid distribution -ikit-learn (/opt/conda/envs/python3/lib/python3.9/site-packages)\u001b[0m\u001b[33m\n",
      "\u001b[0mRequirement already satisfied: scikit-learn in /opt/conda/envs/python3/lib/python3.9/site-packages (0.24.1)\n",
      "Collecting scikit-learn\n",
      "  Using cached scikit_learn-1.4.2-cp39-cp39-manylinux_2_17_x86_64.manylinux2014_x86_64.whl.metadata (11 kB)\n",
      "Requirement already satisfied: numpy>=1.19.5 in /opt/conda/envs/python3/lib/python3.9/site-packages (from scikit-learn) (1.21.2)\n",
      "Requirement already satisfied: scipy>=1.6.0 in /opt/conda/envs/python3/lib/python3.9/site-packages (from scikit-learn) (1.10.1)\n",
      "Requirement already satisfied: joblib>=1.2.0 in /opt/conda/envs/python3/lib/python3.9/site-packages (from scikit-learn) (1.4.2)\n",
      "Requirement already satisfied: threadpoolctl>=2.0.0 in /opt/conda/envs/python3/lib/python3.9/site-packages (from scikit-learn) (3.5.0)\n",
      "Using cached scikit_learn-1.4.2-cp39-cp39-manylinux_2_17_x86_64.manylinux2014_x86_64.whl (12.2 MB)\n",
      "\u001b[33mWARNING: Ignoring invalid distribution - (/opt/conda/envs/python3/lib/python3.9/site-packages)\u001b[0m\u001b[33m\n",
      "\u001b[0m\u001b[33mWARNING: Ignoring invalid distribution -cikit-learn (/opt/conda/envs/python3/lib/python3.9/site-packages)\u001b[0m\u001b[33m\n",
      "\u001b[0m\u001b[33mWARNING: Ignoring invalid distribution -ikit-learn (/opt/conda/envs/python3/lib/python3.9/site-packages)\u001b[0m\u001b[33m\n",
      "\u001b[0mInstalling collected packages: scikit-learn\n",
      "  Attempting uninstall: scikit-learn\n",
      "    Found existing installation: scikit-learn 0.24.1\n",
      "    Uninstalling scikit-learn-0.24.1:\n",
      "\u001b[31mERROR: Could not install packages due to an OSError: [Errno 13] Permission denied: 'COPYING'\n",
      "Consider using the `--user` option or check the permissions.\n",
      "\u001b[0m\u001b[31m\n",
      "\u001b[0mNote: you may need to restart the kernel to use updated packages.\n"
     ]
    }
   ],
   "source": [
    "pip install scikit-learn --upgrade"
   ]
  },
  {
   "cell_type": "code",
   "execution_count": 2,
   "metadata": {},
   "outputs": [],
   "source": [
    "import numpy as np\n",
    "import pandas as pd\n",
    "import math\n",
    "\n",
    "import seaborn as sns\n",
    "\n",
    "import sklearn.linear_model\n",
    "import sklearn.metrics\n",
    "import sklearn.neighbors\n",
    "import sklearn.preprocessing\n",
    "\n",
    "from sklearn.neighbors import NearestNeighbors\n",
    "\n",
    "from sklearn.neighbors import KNeighborsClassifier\n",
    "\n",
    "from sklearn.model_selection import train_test_split\n",
    "\n",
    "from IPython.display import display\n",
    "\n",
    "from scipy.spatial import distance"
   ]
  },
  {
   "cell_type": "markdown",
   "metadata": {},
   "source": [
    "## Carga de datos"
   ]
  },
  {
   "cell_type": "markdown",
   "metadata": {},
   "source": [
    "Carga los datos y haz una revisión básica para comprobar que no hay problemas obvios."
   ]
  },
  {
   "cell_type": "code",
   "execution_count": 3,
   "metadata": {},
   "outputs": [],
   "source": [
    "df = pd.read_csv('/datasets/insurance_us.csv')"
   ]
  },
  {
   "cell_type": "markdown",
   "metadata": {},
   "source": [
    "Renombramos las columnas para que el código se vea más coherente con su estilo."
   ]
  },
  {
   "cell_type": "code",
   "execution_count": 4,
   "metadata": {},
   "outputs": [],
   "source": [
    "df = df.rename(columns={'Gender': 'gender', 'Age': 'age', 'Salary': 'income', 'Family members': 'family_members', 'Insurance benefits': 'insurance_benefits'})"
   ]
  },
  {
   "cell_type": "code",
   "execution_count": 5,
   "metadata": {},
   "outputs": [
    {
     "data": {
      "text/html": [
       "<div>\n",
       "<style scoped>\n",
       "    .dataframe tbody tr th:only-of-type {\n",
       "        vertical-align: middle;\n",
       "    }\n",
       "\n",
       "    .dataframe tbody tr th {\n",
       "        vertical-align: top;\n",
       "    }\n",
       "\n",
       "    .dataframe thead th {\n",
       "        text-align: right;\n",
       "    }\n",
       "</style>\n",
       "<table border=\"1\" class=\"dataframe\">\n",
       "  <thead>\n",
       "    <tr style=\"text-align: right;\">\n",
       "      <th></th>\n",
       "      <th>gender</th>\n",
       "      <th>age</th>\n",
       "      <th>income</th>\n",
       "      <th>family_members</th>\n",
       "      <th>insurance_benefits</th>\n",
       "    </tr>\n",
       "  </thead>\n",
       "  <tbody>\n",
       "    <tr>\n",
       "      <th>4512</th>\n",
       "      <td>0</td>\n",
       "      <td>35.0</td>\n",
       "      <td>75200.0</td>\n",
       "      <td>0</td>\n",
       "      <td>0</td>\n",
       "    </tr>\n",
       "    <tr>\n",
       "      <th>4500</th>\n",
       "      <td>1</td>\n",
       "      <td>36.0</td>\n",
       "      <td>58900.0</td>\n",
       "      <td>1</td>\n",
       "      <td>0</td>\n",
       "    </tr>\n",
       "    <tr>\n",
       "      <th>909</th>\n",
       "      <td>1</td>\n",
       "      <td>36.0</td>\n",
       "      <td>32300.0</td>\n",
       "      <td>0</td>\n",
       "      <td>0</td>\n",
       "    </tr>\n",
       "    <tr>\n",
       "      <th>2979</th>\n",
       "      <td>1</td>\n",
       "      <td>21.0</td>\n",
       "      <td>19600.0</td>\n",
       "      <td>0</td>\n",
       "      <td>0</td>\n",
       "    </tr>\n",
       "    <tr>\n",
       "      <th>1611</th>\n",
       "      <td>0</td>\n",
       "      <td>48.0</td>\n",
       "      <td>45000.0</td>\n",
       "      <td>2</td>\n",
       "      <td>1</td>\n",
       "    </tr>\n",
       "    <tr>\n",
       "      <th>693</th>\n",
       "      <td>1</td>\n",
       "      <td>39.0</td>\n",
       "      <td>34100.0</td>\n",
       "      <td>1</td>\n",
       "      <td>0</td>\n",
       "    </tr>\n",
       "    <tr>\n",
       "      <th>2399</th>\n",
       "      <td>0</td>\n",
       "      <td>37.0</td>\n",
       "      <td>27400.0</td>\n",
       "      <td>1</td>\n",
       "      <td>0</td>\n",
       "    </tr>\n",
       "    <tr>\n",
       "      <th>3524</th>\n",
       "      <td>1</td>\n",
       "      <td>29.0</td>\n",
       "      <td>48500.0</td>\n",
       "      <td>3</td>\n",
       "      <td>0</td>\n",
       "    </tr>\n",
       "    <tr>\n",
       "      <th>3920</th>\n",
       "      <td>0</td>\n",
       "      <td>40.0</td>\n",
       "      <td>38000.0</td>\n",
       "      <td>0</td>\n",
       "      <td>0</td>\n",
       "    </tr>\n",
       "    <tr>\n",
       "      <th>24</th>\n",
       "      <td>0</td>\n",
       "      <td>21.0</td>\n",
       "      <td>40400.0</td>\n",
       "      <td>3</td>\n",
       "      <td>0</td>\n",
       "    </tr>\n",
       "  </tbody>\n",
       "</table>\n",
       "</div>"
      ],
      "text/plain": [
       "      gender   age   income  family_members  insurance_benefits\n",
       "4512       0  35.0  75200.0               0                   0\n",
       "4500       1  36.0  58900.0               1                   0\n",
       "909        1  36.0  32300.0               0                   0\n",
       "2979       1  21.0  19600.0               0                   0\n",
       "1611       0  48.0  45000.0               2                   1\n",
       "693        1  39.0  34100.0               1                   0\n",
       "2399       0  37.0  27400.0               1                   0\n",
       "3524       1  29.0  48500.0               3                   0\n",
       "3920       0  40.0  38000.0               0                   0\n",
       "24         0  21.0  40400.0               3                   0"
      ]
     },
     "execution_count": 5,
     "metadata": {},
     "output_type": "execute_result"
    }
   ],
   "source": [
    "df.sample(10)"
   ]
  },
  {
   "cell_type": "code",
   "execution_count": 6,
   "metadata": {},
   "outputs": [
    {
     "name": "stdout",
     "output_type": "stream",
     "text": [
      "<class 'pandas.core.frame.DataFrame'>\n",
      "RangeIndex: 5000 entries, 0 to 4999\n",
      "Data columns (total 5 columns):\n",
      " #   Column              Non-Null Count  Dtype  \n",
      "---  ------              --------------  -----  \n",
      " 0   gender              5000 non-null   int64  \n",
      " 1   age                 5000 non-null   float64\n",
      " 2   income              5000 non-null   float64\n",
      " 3   family_members      5000 non-null   int64  \n",
      " 4   insurance_benefits  5000 non-null   int64  \n",
      "dtypes: float64(2), int64(3)\n",
      "memory usage: 195.4 KB\n"
     ]
    }
   ],
   "source": [
    "df.info()"
   ]
  },
  {
   "cell_type": "code",
   "execution_count": 7,
   "metadata": {},
   "outputs": [],
   "source": [
    "# puede que queramos cambiar el tipo de edad (de float a int) aunque esto no es crucial\n",
    "\n",
    "# escribe tu conversión aquí si lo deseas:\n",
    "df['age'] = df['age'].astype(int)"
   ]
  },
  {
   "cell_type": "code",
   "execution_count": 8,
   "metadata": {},
   "outputs": [
    {
     "name": "stdout",
     "output_type": "stream",
     "text": [
      "<class 'pandas.core.frame.DataFrame'>\n",
      "RangeIndex: 5000 entries, 0 to 4999\n",
      "Data columns (total 5 columns):\n",
      " #   Column              Non-Null Count  Dtype  \n",
      "---  ------              --------------  -----  \n",
      " 0   gender              5000 non-null   int64  \n",
      " 1   age                 5000 non-null   int64  \n",
      " 2   income              5000 non-null   float64\n",
      " 3   family_members      5000 non-null   int64  \n",
      " 4   insurance_benefits  5000 non-null   int64  \n",
      "dtypes: float64(1), int64(4)\n",
      "memory usage: 195.4 KB\n"
     ]
    }
   ],
   "source": [
    "# comprueba que la conversión se haya realizado con éxito\n",
    "df.info()"
   ]
  },
  {
   "cell_type": "code",
   "execution_count": 9,
   "metadata": {},
   "outputs": [],
   "source": [
    "# ahora echa un vistazo a las estadísticas descriptivas de los datos.# ¿Se ve todo bien?"
   ]
  },
  {
   "cell_type": "code",
   "execution_count": 10,
   "metadata": {},
   "outputs": [
    {
     "data": {
      "text/html": [
       "<div>\n",
       "<style scoped>\n",
       "    .dataframe tbody tr th:only-of-type {\n",
       "        vertical-align: middle;\n",
       "    }\n",
       "\n",
       "    .dataframe tbody tr th {\n",
       "        vertical-align: top;\n",
       "    }\n",
       "\n",
       "    .dataframe thead th {\n",
       "        text-align: right;\n",
       "    }\n",
       "</style>\n",
       "<table border=\"1\" class=\"dataframe\">\n",
       "  <thead>\n",
       "    <tr style=\"text-align: right;\">\n",
       "      <th></th>\n",
       "      <th>gender</th>\n",
       "      <th>age</th>\n",
       "      <th>income</th>\n",
       "      <th>family_members</th>\n",
       "      <th>insurance_benefits</th>\n",
       "    </tr>\n",
       "  </thead>\n",
       "  <tbody>\n",
       "    <tr>\n",
       "      <th>count</th>\n",
       "      <td>5000.000000</td>\n",
       "      <td>5000.000000</td>\n",
       "      <td>5000.000000</td>\n",
       "      <td>5000.000000</td>\n",
       "      <td>5000.000000</td>\n",
       "    </tr>\n",
       "    <tr>\n",
       "      <th>mean</th>\n",
       "      <td>0.499000</td>\n",
       "      <td>30.952800</td>\n",
       "      <td>39916.360000</td>\n",
       "      <td>1.194200</td>\n",
       "      <td>0.148000</td>\n",
       "    </tr>\n",
       "    <tr>\n",
       "      <th>std</th>\n",
       "      <td>0.500049</td>\n",
       "      <td>8.440807</td>\n",
       "      <td>9900.083569</td>\n",
       "      <td>1.091387</td>\n",
       "      <td>0.463183</td>\n",
       "    </tr>\n",
       "    <tr>\n",
       "      <th>min</th>\n",
       "      <td>0.000000</td>\n",
       "      <td>18.000000</td>\n",
       "      <td>5300.000000</td>\n",
       "      <td>0.000000</td>\n",
       "      <td>0.000000</td>\n",
       "    </tr>\n",
       "    <tr>\n",
       "      <th>25%</th>\n",
       "      <td>0.000000</td>\n",
       "      <td>24.000000</td>\n",
       "      <td>33300.000000</td>\n",
       "      <td>0.000000</td>\n",
       "      <td>0.000000</td>\n",
       "    </tr>\n",
       "    <tr>\n",
       "      <th>50%</th>\n",
       "      <td>0.000000</td>\n",
       "      <td>30.000000</td>\n",
       "      <td>40200.000000</td>\n",
       "      <td>1.000000</td>\n",
       "      <td>0.000000</td>\n",
       "    </tr>\n",
       "    <tr>\n",
       "      <th>75%</th>\n",
       "      <td>1.000000</td>\n",
       "      <td>37.000000</td>\n",
       "      <td>46600.000000</td>\n",
       "      <td>2.000000</td>\n",
       "      <td>0.000000</td>\n",
       "    </tr>\n",
       "    <tr>\n",
       "      <th>max</th>\n",
       "      <td>1.000000</td>\n",
       "      <td>65.000000</td>\n",
       "      <td>79000.000000</td>\n",
       "      <td>6.000000</td>\n",
       "      <td>5.000000</td>\n",
       "    </tr>\n",
       "  </tbody>\n",
       "</table>\n",
       "</div>"
      ],
      "text/plain": [
       "            gender          age        income  family_members  \\\n",
       "count  5000.000000  5000.000000   5000.000000     5000.000000   \n",
       "mean      0.499000    30.952800  39916.360000        1.194200   \n",
       "std       0.500049     8.440807   9900.083569        1.091387   \n",
       "min       0.000000    18.000000   5300.000000        0.000000   \n",
       "25%       0.000000    24.000000  33300.000000        0.000000   \n",
       "50%       0.000000    30.000000  40200.000000        1.000000   \n",
       "75%       1.000000    37.000000  46600.000000        2.000000   \n",
       "max       1.000000    65.000000  79000.000000        6.000000   \n",
       "\n",
       "       insurance_benefits  \n",
       "count         5000.000000  \n",
       "mean             0.148000  \n",
       "std              0.463183  \n",
       "min              0.000000  \n",
       "25%              0.000000  \n",
       "50%              0.000000  \n",
       "75%              0.000000  \n",
       "max              5.000000  "
      ]
     },
     "execution_count": 10,
     "metadata": {},
     "output_type": "execute_result"
    }
   ],
   "source": [
    "df.describe()"
   ]
  },
  {
   "cell_type": "markdown",
   "metadata": {},
   "source": [
    "Podemos observar que tenemos un total de 5000 filas de datos, y podemos rescatar la siguiente informacion:\n",
    "- Los clientes van en un rango de edad desde los 18 a 65 años.\n",
    "- El rango de ingreso va desde los 5300 hasta 79000\n",
    "- No todos tienen miembros familiares registrados\n",
    "- No todos cuentan con los beneficios del seguro"
   ]
  },
  {
   "cell_type": "markdown",
   "metadata": {},
   "source": [
    "## Análisis exploratorio de datos"
   ]
  },
  {
   "cell_type": "markdown",
   "metadata": {},
   "source": [
    "Vamos a comprobar rápidamente si existen determinados grupos de clientes observando el gráfico de pares."
   ]
  },
  {
   "cell_type": "code",
   "execution_count": 11,
   "metadata": {},
   "outputs": [
    {
     "data": {
      "image/png": "[encoded data removed]",
      "text/plain": [
       "<Figure size 1200x1200 with 30 Axes>"
      ]
     },
     "metadata": {},
     "output_type": "display_data"
    }
   ],
   "source": [
    "g = sns.pairplot(df, kind='hist')\n",
    "g.fig.set_size_inches(12, 12)"
   ]
  },
  {
   "cell_type": "markdown",
   "metadata": {},
   "source": [
    "De acuerdo, es un poco complicado detectar grupos obvios (clústeres) ya que es difícil combinar diversas variables simultáneamente (para analizar distribuciones multivariadas). Ahí es donde LA y ML pueden ser bastante útiles."
   ]
  },
  {
   "cell_type": "markdown",
   "metadata": {},
   "source": [
    "# Tarea 1. Clientes similares"
   ]
  },
  {
   "cell_type": "markdown",
   "metadata": {},
   "source": [
    "En el lenguaje de ML, es necesario desarrollar un procedimiento que devuelva los k vecinos más cercanos (objetos) para un objeto dado basándose en la distancia entre los objetos.\n",
    "Es posible que quieras revisar las siguientes lecciones (capítulo -> lección)- Distancia entre vectores -> Distancia euclidiana\n",
    "- Distancia entre vectores -> Distancia Manhattan\n",
    "\n",
    "Para resolver la tarea, podemos probar diferentes métricas de distancia."
   ]
  },
  {
   "cell_type": "markdown",
   "metadata": {},
   "source": [
    "Escribe una función que devuelva los k vecinos más cercanos para un $n^{th}$ objeto basándose en una métrica de distancia especificada. A la hora de realizar esta tarea no debe tenerse en cuenta el número de prestaciones de seguro recibidas.\n",
    "Puedes utilizar una implementación ya existente del algoritmo kNN de scikit-learn (consulta [el enlace](https://scikit-learn.org/stable/modules/generated/sklearn.neighbors.NearestNeighbors.html#sklearn.neighbors.NearestNeighbors)) o tu propia implementación.\n",
    "Pruébalo para cuatro combinaciones de dos casos- Escalado\n",
    "  - los datos no están escalados\n",
    "  - los datos se escalan con el escalador [MaxAbsScaler](https://scikit-learn.org/stable/modules/generated/sklearn.preprocessing.MaxAbsScaler.html)\n",
    "- Métricas de distancia\n",
    "  - Euclidiana\n",
    "  - Manhattan\n",
    "\n",
    "Responde a estas preguntas:- ¿El hecho de que los datos no estén escalados afecta al algoritmo kNN? Si es así, ¿cómo se manifiesta?- ¿Qué tan similares son los resultados al utilizar la métrica de distancia Manhattan (independientemente del escalado)?"
   ]
  },
  {
   "cell_type": "code",
   "execution_count": 12,
   "metadata": {},
   "outputs": [],
   "source": [
    "feature_names = ['gender', 'age', 'income', 'family_members']"
   ]
  },
  {
   "cell_type": "code",
   "execution_count": 13,
   "metadata": {},
   "outputs": [],
   "source": [
    "def get_knn(df, n, k, metric):\n",
    "    \n",
    "    \"\"\"\n",
    "    Devuelve los k vecinos más cercanos\n",
    "\n",
    "    :param df: DataFrame de pandas utilizado para encontrar objetos similares dentro del mismo lugar    \n",
    "    :param n: número de objetos para los que se buscan los vecinos más cercanos    \n",
    "    :param k: número de vecinos más cercanos a devolver\n",
    "    :param métrica: nombre de la métrica de distancia    \"\"\"\n",
    "    \n",
    "    #Dependiendo de la letra que tomara metrica se realizara la metrica Manhattan para la 'M' y Euclidiana para la 'E'\n",
    "    nbrs = NearestNeighbors(n_neighbors=k, metric=metric) \n",
    "\n",
    "    # Ajustar el modelo a los datos\n",
    "    nbrs.fit(df[feature_names])\n",
    "    \n",
    "    nbrs_distances, nbrs_indices = nbrs.kneighbors([df.iloc[n][feature_names]], k, return_distance=True)\n",
    "    \n",
    "    df_res = pd.concat([\n",
    "        df.iloc[nbrs_indices[0]], \n",
    "        pd.DataFrame(nbrs_distances.T, index=nbrs_indices[0], columns=['distance'])\n",
    "        ], axis=1)\n",
    "    \n",
    "    return df_res"
   ]
  },
  {
   "cell_type": "markdown",
   "metadata": {},
   "source": [
    "Escalar datos."
   ]
  },
  {
   "cell_type": "code",
   "execution_count": 14,
   "metadata": {},
   "outputs": [],
   "source": [
    "feature_names = ['gender', 'age', 'income', 'family_members']\n",
    "\n",
    "transformer_mas = sklearn.preprocessing.MaxAbsScaler().fit(df[feature_names].to_numpy())\n",
    "\n",
    "df_scaled = df.copy()\n",
    "df_scaled.loc[:, feature_names] = transformer_mas.transform(df[feature_names].to_numpy())"
   ]
  },
  {
   "cell_type": "code",
   "execution_count": 15,
   "metadata": {},
   "outputs": [
    {
     "data": {
      "text/html": [
       "<div>\n",
       "<style scoped>\n",
       "    .dataframe tbody tr th:only-of-type {\n",
       "        vertical-align: middle;\n",
       "    }\n",
       "\n",
       "    .dataframe tbody tr th {\n",
       "        vertical-align: top;\n",
       "    }\n",
       "\n",
       "    .dataframe thead th {\n",
       "        text-align: right;\n",
       "    }\n",
       "</style>\n",
       "<table border=\"1\" class=\"dataframe\">\n",
       "  <thead>\n",
       "    <tr style=\"text-align: right;\">\n",
       "      <th></th>\n",
       "      <th>gender</th>\n",
       "      <th>age</th>\n",
       "      <th>income</th>\n",
       "      <th>family_members</th>\n",
       "      <th>insurance_benefits</th>\n",
       "    </tr>\n",
       "  </thead>\n",
       "  <tbody>\n",
       "    <tr>\n",
       "      <th>2916</th>\n",
       "      <td>0.0</td>\n",
       "      <td>0.476923</td>\n",
       "      <td>0.441772</td>\n",
       "      <td>0.000000</td>\n",
       "      <td>0</td>\n",
       "    </tr>\n",
       "    <tr>\n",
       "      <th>2319</th>\n",
       "      <td>1.0</td>\n",
       "      <td>0.600000</td>\n",
       "      <td>0.389873</td>\n",
       "      <td>0.166667</td>\n",
       "      <td>0</td>\n",
       "    </tr>\n",
       "    <tr>\n",
       "      <th>4951</th>\n",
       "      <td>0.0</td>\n",
       "      <td>0.523077</td>\n",
       "      <td>0.515190</td>\n",
       "      <td>0.166667</td>\n",
       "      <td>0</td>\n",
       "    </tr>\n",
       "    <tr>\n",
       "      <th>2587</th>\n",
       "      <td>1.0</td>\n",
       "      <td>0.400000</td>\n",
       "      <td>0.749367</td>\n",
       "      <td>0.000000</td>\n",
       "      <td>0</td>\n",
       "    </tr>\n",
       "    <tr>\n",
       "      <th>682</th>\n",
       "      <td>1.0</td>\n",
       "      <td>0.553846</td>\n",
       "      <td>0.296203</td>\n",
       "      <td>0.500000</td>\n",
       "      <td>0</td>\n",
       "    </tr>\n",
       "  </tbody>\n",
       "</table>\n",
       "</div>"
      ],
      "text/plain": [
       "      gender       age    income  family_members  insurance_benefits\n",
       "2916     0.0  0.476923  0.441772        0.000000                   0\n",
       "2319     1.0  0.600000  0.389873        0.166667                   0\n",
       "4951     0.0  0.523077  0.515190        0.166667                   0\n",
       "2587     1.0  0.400000  0.749367        0.000000                   0\n",
       "682      1.0  0.553846  0.296203        0.500000                   0"
      ]
     },
     "execution_count": 15,
     "metadata": {},
     "output_type": "execute_result"
    }
   ],
   "source": [
    "df_scaled.sample(5)"
   ]
  },
  {
   "cell_type": "markdown",
   "metadata": {},
   "source": [
    "Ahora, vamos a obtener registros similares para uno determinado, para cada combinación"
   ]
  },
  {
   "cell_type": "code",
   "execution_count": 16,
   "metadata": {},
   "outputs": [
    {
     "data": {
      "text/html": [
       "<div>\n",
       "<style scoped>\n",
       "    .dataframe tbody tr th:only-of-type {\n",
       "        vertical-align: middle;\n",
       "    }\n",
       "\n",
       "    .dataframe tbody tr th {\n",
       "        vertical-align: top;\n",
       "    }\n",
       "\n",
       "    .dataframe thead th {\n",
       "        text-align: right;\n",
       "    }\n",
       "</style>\n",
       "<table border=\"1\" class=\"dataframe\">\n",
       "  <thead>\n",
       "    <tr style=\"text-align: right;\">\n",
       "      <th></th>\n",
       "      <th>gender</th>\n",
       "      <th>age</th>\n",
       "      <th>income</th>\n",
       "      <th>family_members</th>\n",
       "      <th>insurance_benefits</th>\n",
       "      <th>distance</th>\n",
       "    </tr>\n",
       "  </thead>\n",
       "  <tbody>\n",
       "    <tr>\n",
       "      <th>count</th>\n",
       "      <td>500.000000</td>\n",
       "      <td>500.000000</td>\n",
       "      <td>500.000000</td>\n",
       "      <td>500.000000</td>\n",
       "      <td>500.000000</td>\n",
       "      <td>500.000000</td>\n",
       "    </tr>\n",
       "    <tr>\n",
       "      <th>mean</th>\n",
       "      <td>0.492000</td>\n",
       "      <td>30.900000</td>\n",
       "      <td>42583.600000</td>\n",
       "      <td>1.180000</td>\n",
       "      <td>0.136000</td>\n",
       "      <td>614.580000</td>\n",
       "    </tr>\n",
       "    <tr>\n",
       "      <th>std</th>\n",
       "      <td>0.500437</td>\n",
       "      <td>8.280769</td>\n",
       "      <td>690.481404</td>\n",
       "      <td>1.085337</td>\n",
       "      <td>0.462528</td>\n",
       "      <td>337.610066</td>\n",
       "    </tr>\n",
       "    <tr>\n",
       "      <th>min</th>\n",
       "      <td>0.000000</td>\n",
       "      <td>18.000000</td>\n",
       "      <td>41400.000000</td>\n",
       "      <td>0.000000</td>\n",
       "      <td>0.000000</td>\n",
       "      <td>0.000000</td>\n",
       "    </tr>\n",
       "    <tr>\n",
       "      <th>25%</th>\n",
       "      <td>0.000000</td>\n",
       "      <td>25.000000</td>\n",
       "      <td>42000.000000</td>\n",
       "      <td>0.000000</td>\n",
       "      <td>0.000000</td>\n",
       "      <td>315.000000</td>\n",
       "    </tr>\n",
       "    <tr>\n",
       "      <th>50%</th>\n",
       "      <td>0.000000</td>\n",
       "      <td>30.500000</td>\n",
       "      <td>42600.000000</td>\n",
       "      <td>1.000000</td>\n",
       "      <td>0.000000</td>\n",
       "      <td>613.000000</td>\n",
       "    </tr>\n",
       "    <tr>\n",
       "      <th>75%</th>\n",
       "      <td>1.000000</td>\n",
       "      <td>36.000000</td>\n",
       "      <td>43200.000000</td>\n",
       "      <td>2.000000</td>\n",
       "      <td>0.000000</td>\n",
       "      <td>907.250000</td>\n",
       "    </tr>\n",
       "    <tr>\n",
       "      <th>max</th>\n",
       "      <td>1.000000</td>\n",
       "      <td>60.000000</td>\n",
       "      <td>43800.000000</td>\n",
       "      <td>5.000000</td>\n",
       "      <td>4.000000</td>\n",
       "      <td>1209.000000</td>\n",
       "    </tr>\n",
       "  </tbody>\n",
       "</table>\n",
       "</div>"
      ],
      "text/plain": [
       "           gender         age        income  family_members  \\\n",
       "count  500.000000  500.000000    500.000000      500.000000   \n",
       "mean     0.492000   30.900000  42583.600000        1.180000   \n",
       "std      0.500437    8.280769    690.481404        1.085337   \n",
       "min      0.000000   18.000000  41400.000000        0.000000   \n",
       "25%      0.000000   25.000000  42000.000000        0.000000   \n",
       "50%      0.000000   30.500000  42600.000000        1.000000   \n",
       "75%      1.000000   36.000000  43200.000000        2.000000   \n",
       "max      1.000000   60.000000  43800.000000        5.000000   \n",
       "\n",
       "       insurance_benefits     distance  \n",
       "count          500.000000   500.000000  \n",
       "mean             0.136000   614.580000  \n",
       "std              0.462528   337.610066  \n",
       "min              0.000000     0.000000  \n",
       "25%              0.000000   315.000000  \n",
       "50%              0.000000   613.000000  \n",
       "75%              0.000000   907.250000  \n",
       "max              4.000000  1209.000000  "
      ]
     },
     "execution_count": 16,
     "metadata": {},
     "output_type": "execute_result"
    }
   ],
   "source": [
    "knn_01=get_knn(df, 1000, 500, 'manhattan')\n",
    "knn_01.describe()"
   ]
  },
  {
   "cell_type": "code",
   "execution_count": 17,
   "metadata": {},
   "outputs": [
    {
     "data": {
      "text/html": [
       "<div>\n",
       "<style scoped>\n",
       "    .dataframe tbody tr th:only-of-type {\n",
       "        vertical-align: middle;\n",
       "    }\n",
       "\n",
       "    .dataframe tbody tr th {\n",
       "        vertical-align: top;\n",
       "    }\n",
       "\n",
       "    .dataframe thead th {\n",
       "        text-align: right;\n",
       "    }\n",
       "</style>\n",
       "<table border=\"1\" class=\"dataframe\">\n",
       "  <thead>\n",
       "    <tr style=\"text-align: right;\">\n",
       "      <th></th>\n",
       "      <th>gender</th>\n",
       "      <th>age</th>\n",
       "      <th>income</th>\n",
       "      <th>family_members</th>\n",
       "      <th>insurance_benefits</th>\n",
       "      <th>distance</th>\n",
       "    </tr>\n",
       "  </thead>\n",
       "  <tbody>\n",
       "    <tr>\n",
       "      <th>count</th>\n",
       "      <td>500.0</td>\n",
       "      <td>500.000000</td>\n",
       "      <td>500.000000</td>\n",
       "      <td>500.000000</td>\n",
       "      <td>500.000000</td>\n",
       "      <td>500.000000</td>\n",
       "    </tr>\n",
       "    <tr>\n",
       "      <th>mean</th>\n",
       "      <td>1.0</td>\n",
       "      <td>0.573846</td>\n",
       "      <td>0.526499</td>\n",
       "      <td>0.162667</td>\n",
       "      <td>0.230000</td>\n",
       "      <td>0.172969</td>\n",
       "    </tr>\n",
       "    <tr>\n",
       "      <th>std</th>\n",
       "      <td>0.0</td>\n",
       "      <td>0.084767</td>\n",
       "      <td>0.077543</td>\n",
       "      <td>0.069876</td>\n",
       "      <td>0.483288</td>\n",
       "      <td>0.060721</td>\n",
       "    </tr>\n",
       "    <tr>\n",
       "      <th>min</th>\n",
       "      <td>1.0</td>\n",
       "      <td>0.384615</td>\n",
       "      <td>0.297468</td>\n",
       "      <td>0.000000</td>\n",
       "      <td>0.000000</td>\n",
       "      <td>0.000000</td>\n",
       "    </tr>\n",
       "    <tr>\n",
       "      <th>25%</th>\n",
       "      <td>1.0</td>\n",
       "      <td>0.507692</td>\n",
       "      <td>0.474684</td>\n",
       "      <td>0.166667</td>\n",
       "      <td>0.000000</td>\n",
       "      <td>0.133739</td>\n",
       "    </tr>\n",
       "    <tr>\n",
       "      <th>50%</th>\n",
       "      <td>1.0</td>\n",
       "      <td>0.584615</td>\n",
       "      <td>0.529114</td>\n",
       "      <td>0.166667</td>\n",
       "      <td>0.000000</td>\n",
       "      <td>0.183236</td>\n",
       "    </tr>\n",
       "    <tr>\n",
       "      <th>75%</th>\n",
       "      <td>1.0</td>\n",
       "      <td>0.630769</td>\n",
       "      <td>0.578481</td>\n",
       "      <td>0.166667</td>\n",
       "      <td>0.000000</td>\n",
       "      <td>0.222444</td>\n",
       "    </tr>\n",
       "    <tr>\n",
       "      <th>max</th>\n",
       "      <td>1.0</td>\n",
       "      <td>0.815385</td>\n",
       "      <td>0.721519</td>\n",
       "      <td>0.333333</td>\n",
       "      <td>2.000000</td>\n",
       "      <td>0.257157</td>\n",
       "    </tr>\n",
       "  </tbody>\n",
       "</table>\n",
       "</div>"
      ],
      "text/plain": [
       "       gender         age      income  family_members  insurance_benefits  \\\n",
       "count   500.0  500.000000  500.000000      500.000000          500.000000   \n",
       "mean      1.0    0.573846    0.526499        0.162667            0.230000   \n",
       "std       0.0    0.084767    0.077543        0.069876            0.483288   \n",
       "min       1.0    0.384615    0.297468        0.000000            0.000000   \n",
       "25%       1.0    0.507692    0.474684        0.166667            0.000000   \n",
       "50%       1.0    0.584615    0.529114        0.166667            0.000000   \n",
       "75%       1.0    0.630769    0.578481        0.166667            0.000000   \n",
       "max       1.0    0.815385    0.721519        0.333333            2.000000   \n",
       "\n",
       "         distance  \n",
       "count  500.000000  \n",
       "mean     0.172969  \n",
       "std      0.060721  \n",
       "min      0.000000  \n",
       "25%      0.133739  \n",
       "50%      0.183236  \n",
       "75%      0.222444  \n",
       "max      0.257157  "
      ]
     },
     "execution_count": 17,
     "metadata": {},
     "output_type": "execute_result"
    }
   ],
   "source": [
    "knn_02=get_knn(df_scaled, 1000,500, 'manhattan')\n",
    "knn_02.describe()"
   ]
  },
  {
   "cell_type": "code",
   "execution_count": 18,
   "metadata": {},
   "outputs": [
    {
     "data": {
      "text/html": [
       "<div>\n",
       "<style scoped>\n",
       "    .dataframe tbody tr th:only-of-type {\n",
       "        vertical-align: middle;\n",
       "    }\n",
       "\n",
       "    .dataframe tbody tr th {\n",
       "        vertical-align: top;\n",
       "    }\n",
       "\n",
       "    .dataframe thead th {\n",
       "        text-align: right;\n",
       "    }\n",
       "</style>\n",
       "<table border=\"1\" class=\"dataframe\">\n",
       "  <thead>\n",
       "    <tr style=\"text-align: right;\">\n",
       "      <th></th>\n",
       "      <th>gender</th>\n",
       "      <th>age</th>\n",
       "      <th>income</th>\n",
       "      <th>family_members</th>\n",
       "      <th>insurance_benefits</th>\n",
       "      <th>distance</th>\n",
       "    </tr>\n",
       "  </thead>\n",
       "  <tbody>\n",
       "    <tr>\n",
       "      <th>count</th>\n",
       "      <td>500.000000</td>\n",
       "      <td>500.000000</td>\n",
       "      <td>500.000000</td>\n",
       "      <td>500.000000</td>\n",
       "      <td>500.000000</td>\n",
       "      <td>500.000000</td>\n",
       "    </tr>\n",
       "    <tr>\n",
       "      <th>mean</th>\n",
       "      <td>0.492000</td>\n",
       "      <td>30.900000</td>\n",
       "      <td>42583.600000</td>\n",
       "      <td>1.180000</td>\n",
       "      <td>0.136000</td>\n",
       "      <td>602.475113</td>\n",
       "    </tr>\n",
       "    <tr>\n",
       "      <th>std</th>\n",
       "      <td>0.500437</td>\n",
       "      <td>8.280769</td>\n",
       "      <td>690.481404</td>\n",
       "      <td>1.085337</td>\n",
       "      <td>0.462528</td>\n",
       "      <td>336.901920</td>\n",
       "    </tr>\n",
       "    <tr>\n",
       "      <th>min</th>\n",
       "      <td>0.000000</td>\n",
       "      <td>18.000000</td>\n",
       "      <td>41400.000000</td>\n",
       "      <td>0.000000</td>\n",
       "      <td>0.000000</td>\n",
       "      <td>0.000000</td>\n",
       "    </tr>\n",
       "    <tr>\n",
       "      <th>25%</th>\n",
       "      <td>0.000000</td>\n",
       "      <td>25.000000</td>\n",
       "      <td>42000.000000</td>\n",
       "      <td>0.000000</td>\n",
       "      <td>0.000000</td>\n",
       "      <td>300.317332</td>\n",
       "    </tr>\n",
       "    <tr>\n",
       "      <th>50%</th>\n",
       "      <td>0.000000</td>\n",
       "      <td>30.500000</td>\n",
       "      <td>42600.000000</td>\n",
       "      <td>1.000000</td>\n",
       "      <td>0.000000</td>\n",
       "      <td>600.120821</td>\n",
       "    </tr>\n",
       "    <tr>\n",
       "      <th>75%</th>\n",
       "      <td>1.000000</td>\n",
       "      <td>36.000000</td>\n",
       "      <td>43200.000000</td>\n",
       "      <td>2.000000</td>\n",
       "      <td>0.000000</td>\n",
       "      <td>900.020694</td>\n",
       "    </tr>\n",
       "    <tr>\n",
       "      <th>max</th>\n",
       "      <td>1.000000</td>\n",
       "      <td>60.000000</td>\n",
       "      <td>43800.000000</td>\n",
       "      <td>5.000000</td>\n",
       "      <td>4.000000</td>\n",
       "      <td>1200.022083</td>\n",
       "    </tr>\n",
       "  </tbody>\n",
       "</table>\n",
       "</div>"
      ],
      "text/plain": [
       "           gender         age        income  family_members  \\\n",
       "count  500.000000  500.000000    500.000000      500.000000   \n",
       "mean     0.492000   30.900000  42583.600000        1.180000   \n",
       "std      0.500437    8.280769    690.481404        1.085337   \n",
       "min      0.000000   18.000000  41400.000000        0.000000   \n",
       "25%      0.000000   25.000000  42000.000000        0.000000   \n",
       "50%      0.000000   30.500000  42600.000000        1.000000   \n",
       "75%      1.000000   36.000000  43200.000000        2.000000   \n",
       "max      1.000000   60.000000  43800.000000        5.000000   \n",
       "\n",
       "       insurance_benefits     distance  \n",
       "count          500.000000   500.000000  \n",
       "mean             0.136000   602.475113  \n",
       "std              0.462528   336.901920  \n",
       "min              0.000000     0.000000  \n",
       "25%              0.000000   300.317332  \n",
       "50%              0.000000   600.120821  \n",
       "75%              0.000000   900.020694  \n",
       "max              4.000000  1200.022083  "
      ]
     },
     "execution_count": 18,
     "metadata": {},
     "output_type": "execute_result"
    }
   ],
   "source": [
    "knn_02=get_knn(df, 1000, 500, 'euclidean')\n",
    "knn_02.describe()"
   ]
  },
  {
   "cell_type": "markdown",
   "metadata": {},
   "source": [
    "Respuestas a las preguntas"
   ]
  },
  {
   "cell_type": "markdown",
   "metadata": {},
   "source": [
    "**¿El hecho de que los datos no estén escalados afecta al algoritmo kNN? Si es así, ¿cómo se manifiesta?** \n",
    "\n",
    "Con los datos escalados obtenemos datos flotantes y todos bajo mayores que 0 pero menores que uno"
   ]
  },
  {
   "cell_type": "markdown",
   "metadata": {},
   "source": [
    "**¿Qué tan similares son los resultados al utilizar la métrica de distancia Manhattan (independientemente del escalado)?** \n",
    "\n",
    "Obtenemos los mismos resultados ya sea con la metrica de distancia Manhattan o la Euclideana"
   ]
  },
  {
   "cell_type": "markdown",
   "metadata": {},
   "source": [
    "# Tarea 2. ¿Es probable que el cliente reciba una prestación del seguro?"
   ]
  },
  {
   "cell_type": "markdown",
   "metadata": {},
   "source": [
    "En términos de machine learning podemos considerarlo como una tarea de clasificación binaria."
   ]
  },
  {
   "cell_type": "markdown",
   "metadata": {},
   "source": [
    "Con el valor de `insurance_benefits` superior a cero como objetivo, evalúa si el enfoque de clasificación kNN puede funcionar mejor que el modelo dummy.\n",
    "Instrucciones:\n",
    "- Construye un clasificador basado en KNN y mide su calidad con la métrica F1 para k=1...10 tanto para los datos originales como para los escalados. Sería interesante observar cómo k puede influir en la métrica de evaluación y si el escalado de los datos provoca alguna diferencia. Puedes utilizar una implementación ya existente del algoritmo de clasificación kNN de scikit-learn (consulta [el enlace](https://scikit-learn.org/stable/modules/generated/sklearn.neighbors.KNeighborsClassifier.html)) o tu propia implementación.- Construye un modelo dummy que, en este caso, es simplemente un modelo aleatorio. Debería devolver \"1\" con cierta probabilidad. Probemos el modelo con cuatro valores de probabilidad: 0, la probabilidad de pagar cualquier prestación del seguro, 0.5, 1.\n",
    "La probabilidad de pagar cualquier prestación del seguro puede definirse como\n",
    "$$\n",
    "P\\{\\text{prestación de seguro recibida}\\}=\\frac{\\text{número de clientes que han recibido alguna prestación de seguro}}{\\text{número total de clientes}}.\n",
    "$$\n",
    "\n",
    "Divide todos los datos correspondientes a las etapas de entrenamiento/prueba respetando la proporción 70:30."
   ]
  },
  {
   "cell_type": "code",
   "execution_count": 19,
   "metadata": {},
   "outputs": [
    {
     "name": "stdout",
     "output_type": "stream",
     "text": [
      "Prestacion de seguro recibida(P)= 0.1128\n"
     ]
    }
   ],
   "source": [
    "# сalcula el objetivo\n",
    "df['insurance_benefits_received'] = np.where(df['insurance_benefits']>0,df['insurance_benefits'],0)\n",
    "target_benefits_received=df[df['insurance_benefits_received']>0].count()/df['gender'].count()\n",
    "\n",
    "print('Prestacion de seguro recibida(P)=',target_benefits_received['insurance_benefits_received'])"
   ]
  },
  {
   "cell_type": "code",
   "execution_count": 20,
   "metadata": {},
   "outputs": [
    {
     "data": {
      "text/plain": [
       "<AxesSubplot:>"
      ]
     },
     "execution_count": 20,
     "metadata": {},
     "output_type": "execute_result"
    },
    {
     "data": {
      "image/png": "[encoded data removed]",
      "text/plain": [
       "<Figure size 640x480 with 1 Axes>"
      ]
     },
     "metadata": {},
     "output_type": "display_data"
    }
   ],
   "source": [
    "# comprueba el desequilibrio de clases con value_counts()\n",
    "# <tu código aquí>\n",
    "df['insurance_benefits_received'].value_counts().plot(kind='bar')"
   ]
  },
  {
   "cell_type": "code",
   "execution_count": 21,
   "metadata": {},
   "outputs": [],
   "source": [
    "def eval_classifier(y_true, y_pred):\n",
    "    \n",
    "    f1_score = sklearn.metrics.f1_score(y_true, y_pred, average='weighted')\n",
    "    print(f'F1: {f1_score:.2f}')\n",
    "    \n",
    "# si tienes algún problema con la siguiente línea, reinicia el kernel y ejecuta el cuaderno de nuevo    \n",
    "    \n",
    "    cm = sklearn.metrics.confusion_matrix(y_true, y_pred, normalize='all')\n",
    "    print('Matriz de confusión')\n",
    "    print(cm)"
   ]
  },
  {
   "cell_type": "code",
   "execution_count": 22,
   "metadata": {},
   "outputs": [],
   "source": [
    "# generar la salida de un modelo aleatorio\n",
    "\n",
    "def rnd_model_predict(P, size, seed=42):\n",
    "\n",
    "    rng = np.random.default_rng(seed=seed)\n",
    "    return rng.binomial(n=1, p=P, size=size)"
   ]
  },
  {
   "cell_type": "code",
   "execution_count": 23,
   "metadata": {},
   "outputs": [
    {
     "name": "stdout",
     "output_type": "stream",
     "text": [
      "La probabilidad: 0.00\n",
      "\n",
      "La probabilidad: 0.15\n",
      "\n",
      "La probabilidad: 0.50\n",
      "\n",
      "La probabilidad: 1.00\n",
      "\n"
     ]
    }
   ],
   "source": [
    "for P in [0, df['insurance_benefits_received'].sum() / len(df), 0.5, 1]:\n",
    "\n",
    "    print(f'La probabilidad: {P:.2f}')\n",
    "    y_pred_rnd = rnd_model_predict(P,df['insurance_benefits_received'].sum())    \n",
    "    eval_classifier=(df['insurance_benefits_received'], y_pred_rnd)\n",
    "    print()"
   ]
  },
  {
   "cell_type": "code",
   "execution_count": 24,
   "metadata": {},
   "outputs": [],
   "source": [
    "def evaluate_knn(X_train, X_test, y_train, y_test, n):\n",
    "    knn = KNeighborsClassifier(n_neighbors=n)\n",
    "    \n",
    "    knn.fit(X_train, y_train)\n",
    "    \n",
    "    y_pred_knn = knn.predict(X_test)\n",
    "    result_knn=eval_classifier=(y_test, y_pred_knn)\n",
    "    return result_knn"
   ]
  },
  {
   "cell_type": "code",
   "execution_count": 25,
   "metadata": {},
   "outputs": [],
   "source": [
    "def main(df):\n",
    "    # Escalamos los datos\n",
    "    feature_names = ['gender', 'age', 'income', 'family_members']\n",
    "\n",
    "    transformer_mas = sklearn.preprocessing.MaxAbsScaler().fit(df[feature_names].to_numpy())\n",
    "\n",
    "    df_scaled = df.copy()\n",
    "    df_scaled.loc[:, feature_names] = transformer_mas.transform(df[feature_names].to_numpy())\n",
    "    \n",
    "    # Como obtendremos los conjuntos con proporcion 70:30 realizaremos un conjunto de entrenamiento y otro de pruebas\n",
    "    train,test=train_test_split(df_scaled,test_size=0.25,random_state=54321)\n",
    "    #Entrenamiento\n",
    "    X_train=train.drop(['insurance_benefits_received'],axis=1)\n",
    "    y_train=train['insurance_benefits_received']\n",
    "    #Prueba\n",
    "    X_test=test.drop(['insurance_benefits_received'],axis=1)\n",
    "    y_test=test['insurance_benefits_received']\n",
    "    \n",
    "    result_knn=evaluate_knn(X_train, X_test, y_train, y_test, 5)\n",
    "    print(result_knn)"
   ]
  },
  {
   "cell_type": "code",
   "execution_count": 26,
   "metadata": {},
   "outputs": [
    {
     "name": "stdout",
     "output_type": "stream",
     "text": [
      "(3893    1\n",
      "1201    0\n",
      "1       1\n",
      "1353    0\n",
      "3110    0\n",
      "       ..\n",
      "1061    0\n",
      "3407    0\n",
      "786     0\n",
      "1066    0\n",
      "1031    0\n",
      "Name: insurance_benefits_received, Length: 1250, dtype: int64, array([1, 0, 1, ..., 0, 0, 0]))\n"
     ]
    }
   ],
   "source": [
    "main(df)"
   ]
  },
  {
   "cell_type": "markdown",
   "metadata": {},
   "source": [
    "# Tarea 3. Regresión (con regresión lineal)"
   ]
  },
  {
   "cell_type": "markdown",
   "metadata": {},
   "source": [
    "Con `insurance_benefits` como objetivo, evalúa cuál sería la RECM de un modelo de regresión lineal."
   ]
  },
  {
   "cell_type": "markdown",
   "metadata": {},
   "source": [
    "Construye tu propia implementación de regresión lineal. Para ello, recuerda cómo está formulada la solución de la tarea de regresión lineal en términos de LA. Comprueba la RECM tanto para los datos originales como para los escalados. ¿Puedes ver alguna diferencia en la RECM con respecto a estos dos casos?\n",
    "\n",
    "Denotemos- $X$: matriz de características; cada fila es un caso, cada columna es una característica, la primera columna está formada por unidades- $y$ — objetivo (un vector)- $\\hat{y}$ — objetivo estimado (un vector)- $w$ — vector de pesos\n",
    "La tarea de regresión lineal en el lenguaje de las matrices puede formularse así:\n",
    "$$\n",
    "y = Xw\n",
    "$$\n",
    "\n",
    "El objetivo de entrenamiento es entonces encontrar esa $w$ w que minimice la distancia L2 (ECM) entre $Xw$ y $y$:\n",
    "\n",
    "$$\n",
    "\\min_w d_2(Xw, y) \\quad \\text{or} \\quad \\min_w \\text{MSE}(Xw, y)\n",
    "$$\n",
    "\n",
    "Parece que hay una solución analítica para lo anteriormente expuesto:\n",
    "$$\n",
    "w = (X^T X)^{-1} X^T y\n",
    "$$\n",
    "\n",
    "La fórmula anterior puede servir para encontrar los pesos $w$ y estos últimos pueden utilizarse para calcular los valores predichos\n",
    "$$\n",
    "\\hat{y} = X_{val}w\n",
    "$$"
   ]
  },
  {
   "cell_type": "markdown",
   "metadata": {},
   "source": [
    "Divide todos los datos correspondientes a las etapas de entrenamiento/prueba respetando la proporción 70:30. Utiliza la métrica RECM para evaluar el modelo."
   ]
  },
  {
   "cell_type": "code",
   "execution_count": 27,
   "metadata": {},
   "outputs": [],
   "source": [
    "class MyLinearRegression:\n",
    "    \n",
    "    def __init__(self):\n",
    "        \n",
    "        self.weights = None\n",
    "    \n",
    "    def fit(self, X, y):\n",
    "        \n",
    "        # añadir las unidades\n",
    "        X2 = np.append(np.ones([len(X), 1]), X, axis=1)\n",
    "        \n",
    "        #w=np.linalg.inv(X.T.dot(X)).dot(X.T).dot(y)\n",
    "        self.weights =np.linalg.inv(X2.T.dot(X2)).dot(X2.T).dot(y)\n",
    "        #self.w0 = w[0]\n",
    "\n",
    "    def predict(self, X):\n",
    "        \n",
    "        # añadir las unidades\n",
    "        X2 = np.append(np.ones([len(X), 1]), X, axis=1)\n",
    "        y_pred =X2.dot(self.weights)\n",
    "        \n",
    "        return y_pred"
   ]
  },
  {
   "cell_type": "code",
   "execution_count": 28,
   "metadata": {},
   "outputs": [],
   "source": [
    "def eval_regressor(y_true, y_pred):\n",
    "    \n",
    "    rmse = math.sqrt(sklearn.metrics.mean_squared_error(y_true, y_pred))\n",
    "    print(f'RMSE: {rmse:.2f}')\n",
    "    \n",
    "    r2_score = math.sqrt(sklearn.metrics.r2_score(y_true, y_pred))\n",
    "    print(f'R2: {r2_score:.2f}')    "
   ]
  },
  {
   "cell_type": "code",
   "execution_count": 29,
   "metadata": {},
   "outputs": [
    {
     "name": "stdout",
     "output_type": "stream",
     "text": [
      "[-9.43539012e-01  3.57495491e-02  1.64272726e-02 -2.60743659e-07\n",
      " -1.16902127e-02]\n",
      "RMSE: 0.34\n",
      "R2: 0.66\n"
     ]
    }
   ],
   "source": [
    "X = df[['age', 'gender', 'income', 'family_members']].to_numpy()\n",
    "y = df['insurance_benefits'].to_numpy()\n",
    "\n",
    "X_train, X_test, y_train, y_test = train_test_split(X, y, test_size=0.3, random_state=12345)\n",
    "\n",
    "lr = MyLinearRegression()\n",
    "\n",
    "lr.fit(X_train, y_train)\n",
    "print(lr.weights)\n",
    "\n",
    "y_test_pred = lr.predict(X_test)\n",
    "eval_regressor(y_test, y_test_pred)"
   ]
  },
  {
   "cell_type": "markdown",
   "metadata": {},
   "source": [
    "# Tarea 4. Ofuscar datos"
   ]
  },
  {
   "cell_type": "markdown",
   "metadata": {},
   "source": [
    "Lo mejor es ofuscar los datos multiplicando las características numéricas (recuerda que se pueden ver como la matriz $X$) por una matriz invertible $P$. \n",
    "\n",
    "$$\n",
    "X' = X \\times P\n",
    "$$\n",
    "\n",
    "Trata de hacerlo y comprueba cómo quedarán los valores de las características después de la transformación. Por cierto, la propiedad de invertibilidad es importante aquí, así que asegúrate de que $P$ sea realmente invertible.\n",
    "\n",
    "Puedes revisar la lección 'Matrices y operaciones matriciales -> Multiplicación de matrices' para recordar la regla de multiplicación de matrices y su implementación con NumPy."
   ]
  },
  {
   "cell_type": "code",
   "execution_count": 30,
   "metadata": {},
   "outputs": [],
   "source": [
    "personal_info_column_list = ['gender', 'age', 'income', 'family_members']\n",
    "df_pn = df[personal_info_column_list]"
   ]
  },
  {
   "cell_type": "code",
   "execution_count": 31,
   "metadata": {},
   "outputs": [],
   "source": [
    "X = df_pn.to_numpy()"
   ]
  },
  {
   "cell_type": "markdown",
   "metadata": {},
   "source": [
    "Generar una matriz aleatoria $P$."
   ]
  },
  {
   "cell_type": "code",
   "execution_count": 32,
   "metadata": {},
   "outputs": [],
   "source": [
    "rng = np.random.default_rng(seed=42)\n",
    "P = rng.random(size=(X.shape[1], X.shape[1]))"
   ]
  },
  {
   "cell_type": "markdown",
   "metadata": {},
   "source": [
    "Comprobar que la matriz P sea invertible"
   ]
  },
  {
   "cell_type": "markdown",
   "metadata": {},
   "source": [
    "Una matriz es invertible si y sólo si su determinante es distinto de cero. Esto es, una matriz tiene inversa si su determinante es no cero.\n",
    "\n",
    "La matriz P cuadrada seria invertible si existe una matriz B con la propiedad de que:\n",
    "\n",
    "P*B=B*P=I\n",
    "\n",
    "donde I es la matriz identidad. La matriz B es única, la llamamos la inversa de P y la denotamos por P':\n",
    "\n",
    "P*P'=P'*P=I"
   ]
  },
  {
   "cell_type": "markdown",
   "metadata": {},
   "source": [
    "¿Puedes adivinar la edad o los ingresos de los clientes después de la transformación?"
   ]
  },
  {
   "cell_type": "code",
   "execution_count": 33,
   "metadata": {},
   "outputs": [
    {
     "name": "stdout",
     "output_type": "stream",
     "text": [
      "[[ 6359.71527314 22380.40467609 18424.09074184 46000.69669016]\n",
      " [ 4873.29406479 17160.36702982 14125.78076133 35253.45577301]\n",
      " [ 2693.11742928  9486.397744    7808.83156024 19484.86063067]\n",
      " ...\n",
      " [ 4346.2234249  15289.24126492 12586.16264392 31433.50888552]\n",
      " [ 4194.09324155 14751.9910242  12144.02930637 30323.88763426]\n",
      " [ 5205.46827354 18314.24814446 15077.01370762 37649.59295455]]\n"
     ]
    }
   ],
   "source": [
    "print(X.dot(P))"
   ]
  },
  {
   "cell_type": "markdown",
   "metadata": {},
   "source": [
    "No puedo adiviinar ya que son solo datos numericos solamente."
   ]
  },
  {
   "cell_type": "markdown",
   "metadata": {},
   "source": [
    "¿Puedes recuperar los datos originales de $X'$ si conoces $P$? Intenta comprobarlo a través de los cálculos moviendo $P$ del lado derecho de la fórmula anterior al izquierdo. En este caso las reglas de la multiplicación matricial son realmente útiles"
   ]
  },
  {
   "cell_type": "code",
   "execution_count": 34,
   "metadata": {},
   "outputs": [
    {
     "name": "stdout",
     "output_type": "stream",
     "text": [
      "Datos originales:\n",
      "[[1.00e+00 4.10e+01 4.96e+04 1.00e+00]\n",
      " [0.00e+00 4.60e+01 3.80e+04 1.00e+00]\n",
      " [0.00e+00 2.90e+01 2.10e+04 0.00e+00]\n",
      " ...\n",
      " [0.00e+00 2.00e+01 3.39e+04 2.00e+00]\n",
      " [1.00e+00 2.20e+01 3.27e+04 3.00e+00]\n",
      " [1.00e+00 2.80e+01 4.06e+04 1.00e+00]]\n",
      "\n",
      "Datos transformados\n",
      "[[ 6359.71527314 22380.40467609 18424.09074184 46000.69669016]\n",
      " [ 4873.29406479 17160.36702982 14125.78076133 35253.45577301]\n",
      " [ 2693.11742928  9486.397744    7808.83156024 19484.86063067]\n",
      " ...\n",
      " [ 4346.2234249  15289.24126492 12586.16264392 31433.50888552]\n",
      " [ 4194.09324155 14751.9910242  12144.02930637 30323.88763426]\n",
      " [ 5205.46827354 18314.24814446 15077.01370762 37649.59295455]]\n",
      "\n",
      "Intento de recuperar datos originales)\n",
      "[[ 1.00000000e+00  4.10000000e+01  4.96000000e+04  1.00000000e+00]\n",
      " [-4.47363596e-12  4.60000000e+01  3.80000000e+04  1.00000000e+00]\n",
      " [-2.51586878e-12  2.90000000e+01  2.10000000e+04  9.52452315e-13]\n",
      " ...\n",
      " [-1.92837871e-12  2.00000000e+01  3.39000000e+04  2.00000000e+00]\n",
      " [ 1.00000000e+00  2.20000000e+01  3.27000000e+04  3.00000000e+00]\n",
      " [ 1.00000000e+00  2.80000000e+01  4.06000000e+04  1.00000000e+00]]\n"
     ]
    }
   ],
   "source": [
    "#X_2= rng.random(size=(P.shape[1], P.shape[1]))\n",
    "\n",
    "print('Datos originales:')\n",
    "print(X)\n",
    "\n",
    "print('')\n",
    "print('Datos transformados')\n",
    "print(np.dot(X,P))\n",
    "\n",
    "print('')\n",
    "print('Intento de recuperar datos originales)')\n",
    "print(np.dot(np.dot(X,P),np.linalg.inv(P)))"
   ]
  },
  {
   "cell_type": "markdown",
   "metadata": {},
   "source": [
    "Solo algunos datos fueron recuperdos correctamente como se ve en la primera fila de los datos originales y recuperados."
   ]
  },
  {
   "cell_type": "markdown",
   "metadata": {},
   "source": [
    "Muestra los tres casos para algunos clientes- Datos originales\n",
    "- El que está transformado- El que está invertido (recuperado)"
   ]
  },
  {
   "cell_type": "markdown",
   "metadata": {},
   "source": [
    "Seguramente puedes ver que algunos valores no son exactamente iguales a los de los datos originales. ¿Cuál podría ser la razón de ello?"
   ]
  },
  {
   "cell_type": "markdown",
   "metadata": {},
   "source": [
    "- Sabemos que el resultado de la multiplicación de matrices depende del orden de los multiplicadores y al transformarlos estos cambian."
   ]
  },
  {
   "cell_type": "markdown",
   "metadata": {},
   "source": [
    "## Prueba de que la ofuscación de datos puede funcionar con regresión lineal"
   ]
  },
  {
   "cell_type": "markdown",
   "metadata": {},
   "source": [
    "En este proyecto la tarea de regresión se ha resuelto con la regresión lineal. Tu siguiente tarea es demostrar _analytically_ que el método de ofuscación no afectará a la regresión lineal en términos de valores predichos, es decir, que sus valores seguirán siendo los mismos. ¿Lo puedes creer? Pues no hace falta que lo creas, ¡tienes que que demostrarlo!"
   ]
  },
  {
   "cell_type": "markdown",
   "metadata": {},
   "source": [
    "Entonces, los datos están ofuscados y ahora tenemos $X \\times P$ en lugar de tener solo $X$. En consecuencia, hay otros pesos $w_P$ como\n",
    "$$\n",
    "w = (X^T X)^{-1} X^T y \\quad \\Rightarrow \\quad w_P = [(XP)^T XP]^{-1} (XP)^T y\n",
    "$$\n",
    "\n",
    "¿Cómo se relacionarían $w$ y $w_P$ si simplificáramos la fórmula de $w_P$ anterior? \n",
    "\n",
    "¿Cuáles serían los valores predichos con $w_P$? \n",
    "\n",
    "¿Qué significa esto para la calidad de la regresión lineal si esta se mide mediante la RECM?\n",
    "Revisa el Apéndice B Propiedades de las matrices al final del cuaderno. ¡Allí encontrarás fórmulas muy útiles!\n",
    "\n",
    "No es necesario escribir código en esta sección, basta con una explicación analítica."
   ]
  },
  {
   "cell_type": "markdown",
   "metadata": {},
   "source": [
    "**Respuesta**"
   ]
  },
  {
   "cell_type": "markdown",
   "metadata": {},
   "source": [
    "- Si simplificamos la formula de  $w_P \\times P$ nos quedarian los mismos bases datos que seria la X\n",
    "- Los valores predictivos de $w_P$ deberian ser los mismos que los de $w$ ya que la variable $y$ es la misma.\n",
    "- Deberian tener el mismo RECM ya que esta es una media de error cuadratico, es decir, mide el procentaje de error entre los datos entrenados y las predicciones, deberian ser proporcionales un modelo del otro ya que las predicciones son las mismas."
   ]
  },
  {
   "cell_type": "markdown",
   "metadata": {},
   "source": [
    "**Prueba analítica**"
   ]
  },
  {
   "cell_type": "markdown",
   "metadata": {},
   "source": [
    "Al entrenar 2 modelos de regresion lineal, uno con los datos normales y otro con los datos ofuscados, deberiamos tener bastantes similitudes como es el caso del RCEM pero al ver las $w$ de cada uno deberia haber una difrencia importante y es que ademas de tener valores diferentes, esos mismos valores deberian ser negativos ya que $P$ es la matriz invertida de $X$"
   ]
  },
  {
   "cell_type": "markdown",
   "metadata": {},
   "source": [
    "## Prueba de regresión lineal con ofuscación de datos"
   ]
  },
  {
   "cell_type": "markdown",
   "metadata": {},
   "source": [
    "Ahora, probemos que la regresión lineal pueda funcionar, en términos computacionales, con la transformación de ofuscación elegida.\n",
    "Construye un procedimiento o una clase que ejecute la regresión lineal opcionalmente con la ofuscación. Puedes usar una implementación de regresión lineal de scikit-learn o tu propia implementación.\n",
    "Ejecuta la regresión lineal para los datos originales y los ofuscados, compara los valores predichos y los valores de las métricas RMSE y $R^2$. ¿Hay alguna diferencia?"
   ]
  },
  {
   "cell_type": "markdown",
   "metadata": {},
   "source": [
    "**Procedimiento**\n",
    "\n",
    "- Crea una matriz cuadrada $P$ de números aleatorios.- Comprueba que sea invertible. Si no lo es, repite el primer paso hasta obtener una matriz invertible.- <¡ tu comentario aquí !>\n",
    "- Utiliza $XP$ como la nueva matriz de características"
   ]
  },
  {
   "cell_type": "code",
   "execution_count": 35,
   "metadata": {},
   "outputs": [],
   "source": [
    "# New Matrix\n",
    "def invertible_matrix(n):\n",
    "\n",
    "    # Random matrix-size n x n\n",
    "    P = np.random.rand(n, n)\n",
    "\n",
    "    # While not inverse\n",
    "    while np.linalg.matrix_rank(P) != n:\n",
    "\n",
    "        # Create new random matrix\n",
    "        P = np.random.rand(n, n)\n",
    "\n",
    "    # Return when inverse\n",
    "    return P\n",
    "\n"
   ]
  },
  {
   "cell_type": "code",
   "execution_count": 36,
   "metadata": {},
   "outputs": [
    {
     "name": "stdout",
     "output_type": "stream",
     "text": [
      "Modelo de regresion lineal\n",
      "[ 0.56035165  0.0637535   0.03017354 -0.12247539 -0.21470155  0.0166849 ]\n",
      "\n",
      "Modelo de regresion lineal ofuscado\n",
      "[ 0.56035165 -2.74979887 -0.08769457  3.32324646  0.26295993 -2.25549367]\n",
      "\n",
      "RMSE para modelo de regresion lineal\n",
      "0.27378541385391164\n",
      "\n",
      "RMSE para modelo de regresion lineal ofuscado\n",
      "0.2737854138538305\n"
     ]
    }
   ],
   "source": [
    "# Declaramos las nuevas variables\n",
    "X = np.random.rand(100,5)\n",
    "y = np.random.rand(100)\n",
    "P=invertible_matrix(X.shape[1])\n",
    "X_obfuscated=np.dot(X,P)\n",
    "\n",
    "# Conjuntos de entrenamiento\n",
    "X_train, X_test, y_train, y_test = train_test_split(X, y, test_size=0.3, random_state=12345)\n",
    "X_obfuscated_train, X_obfuscated_test, y_obfuscated_train, y_obfuscated_test = train_test_split(X_obfuscated, y, test_size=0.3, random_state=12345)\n",
    "\n",
    "# Creacion de modelos\n",
    "lr = MyLinearRegression()\n",
    "lr_obfuscated=MyLinearRegression()\n",
    "\n",
    "# Entrenamiento de modelos\n",
    "lr.fit(X_train, y_train)\n",
    "lr_obfuscated.fit(X_obfuscated_train,y_obfuscated_train)\n",
    "\n",
    "# Mostramos el modelo\n",
    "print(\"Modelo de regresion lineal\")\n",
    "print(lr.weights)\n",
    "print()\n",
    "print(\"Modelo de regresion lineal ofuscado\")\n",
    "print(lr_obfuscated.weights)\n",
    "print()\n",
    "# Predicciones de los modelos\n",
    "y_test_pred = lr.predict(X_test)\n",
    "y_obfuscated_test_pred=lr_obfuscated.predict(X_obfuscated_test)\n",
    "# Mostramos RMSE\n",
    "print(\"RMSE para modelo de regresion lineal\")\n",
    "rmse = math.sqrt(sklearn.metrics.mean_squared_error(y_test, y_test_pred))\n",
    "print(rmse)\n",
    "print()\n",
    "print(\"RMSE para modelo de regresion lineal ofuscado\")\n",
    "rmse_obfuscated = math.sqrt(sklearn.metrics.mean_squared_error(y_obfuscated_test, y_obfuscated_test_pred))\n",
    "print(rmse_obfuscated)"
   ]
  },
  {
   "cell_type": "markdown",
   "metadata": {},
   "source": [
    "# Conclusiones"
   ]
  },
  {
   "cell_type": "markdown",
   "metadata": {},
   "source": [
    "Realizamos un modelo lineal con un DataFrame y otro con datos aleatorios.\n",
    "\n",
    "El modelo con el DataFrame al realizar la ofuscacion y otros procesos no me permitio una vision clara de la totalidad de los datos en si por lo que la usaria en casos de que necesite trabajar con una columna de datos especifica y obtener metricas y estadisticas de este.\n",
    "\n",
    "El modelo con datos aleatorios me permitio experimentar y saber que los datos pueden ser regresados a su forma original y que tambien podemos obtener datos similares siempre y cuando las predicciones(y) se mantengan y los datos(X) "
   ]
  },
  {
   "cell_type": "markdown",
   "metadata": {},
   "source": [
    "# Apéndices\n",
    "\n",
    "## Apéndice A: Escribir fórmulas en los cuadernos de Jupyter"
   ]
  },
  {
   "cell_type": "markdown",
   "metadata": {},
   "source": [
    "Puedes escribir fórmulas en tu Jupyter Notebook utilizando un lenguaje de marcado proporcionado por un sistema de publicación de alta calidad llamado $\\LaTeX$ (se pronuncia como \"Lah-tech\"). Las fórmulas se verán como las de los libros de texto.\n",
    "\n",
    "Para incorporar una fórmula a un texto, pon el signo de dólar (\\\\$) antes y después del texto de la fórmula, por ejemplo: $\\frac{1}{2} \\times \\frac{3}{2} = \\frac{3}{4}$ or $y = x^2, x \\ge 1$.\n",
    "\n",
    "Si una fórmula debe estar en el mismo párrafo, pon el doble signo de dólar (\\\\$\\\\$) antes y después del texto de la fórmula, por ejemplo:\n",
    "$$\n",
    "\\bar{x} = \\frac{1}{n}\\sum_{i=1}^{n} x_i.\n",
    "$$\n",
    "\n",
    "El lenguaje de marcado de [LaTeX](https://es.wikipedia.org/wiki/LaTeX) es muy popular entre las personas que utilizan fórmulas en sus artículos, libros y textos. Puede resultar complicado, pero sus fundamentos son sencillos. Consulta esta [ficha de ayuda](http://tug.ctan.org/info/undergradmath/undergradmath.pdf) (materiales en inglés) de dos páginas para aprender a componer las fórmulas más comunes."
   ]
  },
  {
   "cell_type": "markdown",
   "metadata": {},
   "source": [
    "## Apéndice B: Propiedades de las matrices"
   ]
  },
  {
   "cell_type": "markdown",
   "metadata": {},
   "source": [
    "Las matrices tienen muchas propiedades en cuanto al álgebra lineal. Aquí se enumeran algunas de ellas que pueden ayudarte a la hora de realizar la prueba analítica de este proyecto."
   ]
  },
  {
   "cell_type": "markdown",
   "metadata": {},
   "source": [
    "<table>\n",
    "<tr>\n",
    "<td>Distributividad</td><td>$A(B+C)=AB+AC$</td>\n",
    "</tr>\n",
    "<tr>\n",
    "<td>No conmutatividad</td><td>$AB \\neq BA$</td>\n",
    "</tr>\n",
    "<tr>\n",
    "<td>Propiedad asociativa de la multiplicación</td><td>$(AB)C = A(BC)$</td>\n",
    "</tr>\n",
    "<tr>\n",
    "<td>Propiedad de identidad multiplicativa</td><td>$IA = AI = A$</td>\n",
    "</tr>\n",
    "<tr>\n",
    "<td></td><td>$A^{-1}A = AA^{-1} = I$\n",
    "</td>\n",
    "</tr>    \n",
    "<tr>\n",
    "<td></td><td>$(AB)^{-1} = B^{-1}A^{-1}$</td>\n",
    "</tr>    \n",
    "<tr>\n",
    "<td>Reversibilidad de la transposición de un producto de matrices,</td><td>$(AB)^T = B^TA^T$</td>\n",
    "</tr>    \n",
    "</table>"
   ]
  }
 ],
 "metadata": {
  "ExecuteTimeLog": [
   {
    "duration": 16,
    "start_time": "2024-05-17T00:39:12.944Z"
   },
   {
    "duration": 5100,
    "start_time": "2024-05-17T01:11:31.900Z"
   },
   {
    "duration": 21,
    "start_time": "2024-05-17T01:11:37.004Z"
   },
   {
    "duration": 5,
    "start_time": "2024-05-17T01:11:49.778Z"
   },
   {
    "duration": 19,
    "start_time": "2024-05-17T01:11:49.984Z"
   },
   {
    "duration": 14,
    "start_time": "2024-05-17T01:11:50.155Z"
   },
   {
    "duration": 5,
    "start_time": "2024-05-17T01:11:50.324Z"
   },
   {
    "duration": 14,
    "start_time": "2024-05-17T01:11:50.467Z"
   },
   {
    "duration": 3,
    "start_time": "2024-05-17T01:11:50.626Z"
   },
   {
    "duration": 29,
    "start_time": "2024-05-17T01:11:50.802Z"
   },
   {
    "duration": 4880,
    "start_time": "2024-05-17T01:11:51.656Z"
   },
   {
    "duration": 4,
    "start_time": "2024-05-17T01:11:56.539Z"
   },
   {
    "duration": 7,
    "start_time": "2024-05-17T01:11:56.547Z"
   },
   {
    "duration": 15,
    "start_time": "2024-05-17T01:11:56.559Z"
   },
   {
    "duration": 119,
    "start_time": "2024-05-17T01:11:56.576Z"
   },
   {
    "duration": 41,
    "start_time": "2024-05-17T01:11:56.705Z"
   },
   {
    "duration": 75,
    "start_time": "2024-05-17T01:11:56.749Z"
   },
   {
    "duration": 49,
    "start_time": "2024-05-17T01:11:56.828Z"
   },
   {
    "duration": 13,
    "start_time": "2024-05-17T01:12:01.059Z"
   },
   {
    "duration": 169,
    "start_time": "2024-05-17T01:12:01.912Z"
   },
   {
    "duration": 5,
    "start_time": "2024-05-17T01:12:02.911Z"
   },
   {
    "duration": 4,
    "start_time": "2024-05-17T01:12:03.544Z"
   },
   {
    "duration": 9,
    "start_time": "2024-05-17T01:12:03.717Z"
   },
   {
    "duration": 5,
    "start_time": "2024-05-17T01:12:04.769Z"
   },
   {
    "duration": 6,
    "start_time": "2024-05-17T01:12:05.107Z"
   },
   {
    "duration": 8,
    "start_time": "2024-05-17T01:12:08.674Z"
   },
   {
    "duration": 5,
    "start_time": "2024-05-17T01:12:22.170Z"
   },
   {
    "duration": 543,
    "start_time": "2024-05-17T01:12:23.187Z"
   },
   {
    "duration": 6,
    "start_time": "2024-05-17T01:19:48.397Z"
   },
   {
    "duration": 4,
    "start_time": "2024-05-17T01:19:50.283Z"
   },
   {
    "duration": 55,
    "start_time": "2024-05-17T01:19:50.965Z"
   },
   {
    "duration": 3,
    "start_time": "2024-05-17T01:20:54.002Z"
   },
   {
    "duration": 14,
    "start_time": "2024-05-17T01:20:56.134Z"
   },
   {
    "duration": 4,
    "start_time": "2024-05-17T01:28:47.071Z"
   },
   {
    "duration": 6,
    "start_time": "2024-05-17T01:28:50.163Z"
   },
   {
    "duration": 4,
    "start_time": "2024-05-17T01:28:50.698Z"
   },
   {
    "duration": 5,
    "start_time": "2024-05-17T01:28:51.411Z"
   },
   {
    "duration": 4,
    "start_time": "2024-05-17T01:28:53.215Z"
   },
   {
    "duration": 7,
    "start_time": "2024-05-17T01:29:12.896Z"
   },
   {
    "duration": 6,
    "start_time": "2024-05-17T01:34:46.820Z"
   },
   {
    "duration": 4855,
    "start_time": "2024-05-17T05:08:23.677Z"
   },
   {
    "duration": 5088,
    "start_time": "2024-05-17T05:08:28.536Z"
   },
   {
    "duration": 15,
    "start_time": "2024-05-17T05:08:33.627Z"
   },
   {
    "duration": 4,
    "start_time": "2024-05-17T05:08:33.646Z"
   },
   {
    "duration": 20,
    "start_time": "2024-05-17T05:08:33.654Z"
   },
   {
    "duration": 38,
    "start_time": "2024-05-17T05:08:33.677Z"
   },
   {
    "duration": 5,
    "start_time": "2024-05-17T05:08:33.718Z"
   },
   {
    "duration": 14,
    "start_time": "2024-05-17T05:08:33.726Z"
   },
   {
    "duration": 3,
    "start_time": "2024-05-17T05:08:33.744Z"
   },
   {
    "duration": 74,
    "start_time": "2024-05-17T05:08:33.753Z"
   },
   {
    "duration": 4964,
    "start_time": "2024-05-17T05:08:33.829Z"
   },
   {
    "duration": 4,
    "start_time": "2024-05-17T05:08:38.796Z"
   },
   {
    "duration": 7,
    "start_time": "2024-05-17T05:08:38.803Z"
   },
   {
    "duration": 14,
    "start_time": "2024-05-17T05:08:38.814Z"
   },
   {
    "duration": 15,
    "start_time": "2024-05-17T05:08:38.831Z"
   },
   {
    "duration": 75,
    "start_time": "2024-05-17T05:08:38.850Z"
   },
   {
    "duration": 58,
    "start_time": "2024-05-17T05:08:38.931Z"
   },
   {
    "duration": 51,
    "start_time": "2024-05-17T05:08:38.991Z"
   },
   {
    "duration": 10,
    "start_time": "2024-05-17T05:08:39.045Z"
   },
   {
    "duration": 205,
    "start_time": "2024-05-17T05:08:39.058Z"
   },
   {
    "duration": 6,
    "start_time": "2024-05-17T05:08:39.266Z"
   },
   {
    "duration": 5,
    "start_time": "2024-05-17T05:08:39.275Z"
   },
   {
    "duration": 33,
    "start_time": "2024-05-17T05:08:39.283Z"
   },
   {
    "duration": 5,
    "start_time": "2024-05-17T05:08:39.318Z"
   },
   {
    "duration": 108,
    "start_time": "2024-05-17T05:08:39.326Z"
   },
   {
    "duration": 488,
    "start_time": "2024-05-17T05:08:39.437Z"
   },
   {
    "duration": 0,
    "start_time": "2024-05-17T05:08:39.928Z"
   },
   {
    "duration": 0,
    "start_time": "2024-05-17T05:08:39.930Z"
   },
   {
    "duration": 0,
    "start_time": "2024-05-17T05:08:39.932Z"
   },
   {
    "duration": 0,
    "start_time": "2024-05-17T05:08:39.936Z"
   },
   {
    "duration": 0,
    "start_time": "2024-05-17T05:08:39.938Z"
   },
   {
    "duration": 0,
    "start_time": "2024-05-17T05:08:39.940Z"
   },
   {
    "duration": 0,
    "start_time": "2024-05-17T05:08:39.943Z"
   },
   {
    "duration": 0,
    "start_time": "2024-05-17T05:08:39.947Z"
   },
   {
    "duration": 0,
    "start_time": "2024-05-17T05:08:39.949Z"
   },
   {
    "duration": 3894,
    "start_time": "2024-05-17T05:11:33.492Z"
   },
   {
    "duration": 1590,
    "start_time": "2024-05-17T05:11:37.390Z"
   },
   {
    "duration": 10,
    "start_time": "2024-05-17T05:11:38.984Z"
   },
   {
    "duration": 14,
    "start_time": "2024-05-17T05:11:38.997Z"
   },
   {
    "duration": 18,
    "start_time": "2024-05-17T05:11:39.017Z"
   },
   {
    "duration": 14,
    "start_time": "2024-05-17T05:11:39.038Z"
   },
   {
    "duration": 5,
    "start_time": "2024-05-17T05:11:39.055Z"
   },
   {
    "duration": 14,
    "start_time": "2024-05-17T05:11:39.108Z"
   },
   {
    "duration": 4,
    "start_time": "2024-05-17T05:11:39.125Z"
   },
   {
    "duration": 29,
    "start_time": "2024-05-17T05:11:39.132Z"
   },
   {
    "duration": 4945,
    "start_time": "2024-05-17T05:11:39.164Z"
   },
   {
    "duration": 5,
    "start_time": "2024-05-17T05:11:44.112Z"
   },
   {
    "duration": 8,
    "start_time": "2024-05-17T05:11:44.120Z"
   },
   {
    "duration": 15,
    "start_time": "2024-05-17T05:11:44.135Z"
   },
   {
    "duration": 15,
    "start_time": "2024-05-17T05:11:44.153Z"
   },
   {
    "duration": 39,
    "start_time": "2024-05-17T05:11:44.209Z"
   },
   {
    "duration": 76,
    "start_time": "2024-05-17T05:11:44.250Z"
   },
   {
    "duration": 39,
    "start_time": "2024-05-17T05:11:44.329Z"
   },
   {
    "duration": 11,
    "start_time": "2024-05-17T05:11:44.370Z"
   },
   {
    "duration": 185,
    "start_time": "2024-05-17T05:11:44.409Z"
   },
   {
    "duration": 14,
    "start_time": "2024-05-17T05:11:44.598Z"
   },
   {
    "duration": 5,
    "start_time": "2024-05-17T05:11:44.619Z"
   },
   {
    "duration": 8,
    "start_time": "2024-05-17T05:11:44.627Z"
   },
   {
    "duration": 4,
    "start_time": "2024-05-17T05:11:44.638Z"
   },
   {
    "duration": 11,
    "start_time": "2024-05-17T05:11:44.645Z"
   },
   {
    "duration": 627,
    "start_time": "2024-05-17T05:11:44.659Z"
   },
   {
    "duration": 0,
    "start_time": "2024-05-17T05:11:45.289Z"
   },
   {
    "duration": 0,
    "start_time": "2024-05-17T05:11:45.290Z"
   },
   {
    "duration": 0,
    "start_time": "2024-05-17T05:11:45.293Z"
   },
   {
    "duration": 0,
    "start_time": "2024-05-17T05:11:45.294Z"
   },
   {
    "duration": 0,
    "start_time": "2024-05-17T05:11:45.295Z"
   },
   {
    "duration": 0,
    "start_time": "2024-05-17T05:11:45.309Z"
   },
   {
    "duration": 0,
    "start_time": "2024-05-17T05:11:45.313Z"
   },
   {
    "duration": 0,
    "start_time": "2024-05-17T05:11:45.317Z"
   },
   {
    "duration": 0,
    "start_time": "2024-05-17T05:11:45.320Z"
   },
   {
    "duration": 9,
    "start_time": "2024-05-17T05:13:07.967Z"
   },
   {
    "duration": 149,
    "start_time": "2024-05-17T05:13:08.631Z"
   },
   {
    "duration": 10,
    "start_time": "2024-05-17T05:19:17.986Z"
   },
   {
    "duration": 5,
    "start_time": "2024-05-17T05:19:24.088Z"
   },
   {
    "duration": 164,
    "start_time": "2024-05-17T05:19:27.583Z"
   },
   {
    "duration": 4087,
    "start_time": "2024-05-17T05:20:51.934Z"
   },
   {
    "duration": 1678,
    "start_time": "2024-05-17T05:20:56.025Z"
   },
   {
    "duration": 12,
    "start_time": "2024-05-17T05:20:57.707Z"
   },
   {
    "duration": 7,
    "start_time": "2024-05-17T05:20:57.722Z"
   },
   {
    "duration": 21,
    "start_time": "2024-05-17T05:20:57.735Z"
   },
   {
    "duration": 49,
    "start_time": "2024-05-17T05:20:57.760Z"
   },
   {
    "duration": 5,
    "start_time": "2024-05-17T05:20:57.813Z"
   },
   {
    "duration": 17,
    "start_time": "2024-05-17T05:20:57.821Z"
   },
   {
    "duration": 4,
    "start_time": "2024-05-17T05:20:57.840Z"
   },
   {
    "duration": 70,
    "start_time": "2024-05-17T05:20:57.847Z"
   },
   {
    "duration": 5069,
    "start_time": "2024-05-17T05:20:57.920Z"
   },
   {
    "duration": 5,
    "start_time": "2024-05-17T05:21:02.992Z"
   },
   {
    "duration": 12,
    "start_time": "2024-05-17T05:21:03.001Z"
   },
   {
    "duration": 18,
    "start_time": "2024-05-17T05:21:03.022Z"
   },
   {
    "duration": 16,
    "start_time": "2024-05-17T05:21:03.042Z"
   },
   {
    "duration": 75,
    "start_time": "2024-05-17T05:21:03.064Z"
   },
   {
    "duration": 76,
    "start_time": "2024-05-17T05:21:03.142Z"
   },
   {
    "duration": 42,
    "start_time": "2024-05-17T05:21:03.221Z"
   },
   {
    "duration": 12,
    "start_time": "2024-05-17T05:21:03.265Z"
   },
   {
    "duration": 190,
    "start_time": "2024-05-17T05:21:03.309Z"
   },
   {
    "duration": 11,
    "start_time": "2024-05-17T05:21:03.502Z"
   },
   {
    "duration": 5,
    "start_time": "2024-05-17T05:21:03.516Z"
   },
   {
    "duration": 9,
    "start_time": "2024-05-17T05:21:03.525Z"
   },
   {
    "duration": 5,
    "start_time": "2024-05-17T05:21:03.538Z"
   },
   {
    "duration": 9,
    "start_time": "2024-05-17T05:21:03.547Z"
   },
   {
    "duration": 628,
    "start_time": "2024-05-17T05:21:03.563Z"
   },
   {
    "duration": 0,
    "start_time": "2024-05-17T05:21:04.195Z"
   },
   {
    "duration": 0,
    "start_time": "2024-05-17T05:21:04.209Z"
   },
   {
    "duration": 0,
    "start_time": "2024-05-17T05:21:04.212Z"
   },
   {
    "duration": 0,
    "start_time": "2024-05-17T05:21:04.214Z"
   },
   {
    "duration": 0,
    "start_time": "2024-05-17T05:21:04.216Z"
   },
   {
    "duration": 0,
    "start_time": "2024-05-17T05:21:04.220Z"
   },
   {
    "duration": 0,
    "start_time": "2024-05-17T05:21:04.223Z"
   },
   {
    "duration": 0,
    "start_time": "2024-05-17T05:21:04.225Z"
   },
   {
    "duration": 0,
    "start_time": "2024-05-17T05:21:04.227Z"
   },
   {
    "duration": 8,
    "start_time": "2024-05-17T05:21:17.914Z"
   },
   {
    "duration": 6,
    "start_time": "2024-05-17T05:21:20.950Z"
   },
   {
    "duration": 32,
    "start_time": "2024-05-17T05:21:24.952Z"
   },
   {
    "duration": 5,
    "start_time": "2024-05-17T05:21:31.694Z"
   },
   {
    "duration": 5,
    "start_time": "2024-05-17T05:21:32.358Z"
   },
   {
    "duration": 6,
    "start_time": "2024-05-17T05:21:33.620Z"
   },
   {
    "duration": 225,
    "start_time": "2024-05-17T05:22:51.378Z"
   },
   {
    "duration": 12,
    "start_time": "2024-05-17T05:23:50.348Z"
   },
   {
    "duration": 194,
    "start_time": "2024-05-17T05:23:50.832Z"
   },
   {
    "duration": 5,
    "start_time": "2024-05-17T05:24:18.703Z"
   },
   {
    "duration": 9,
    "start_time": "2024-05-17T05:24:19.295Z"
   },
   {
    "duration": 202,
    "start_time": "2024-05-17T05:24:21.208Z"
   },
   {
    "duration": 6,
    "start_time": "2024-05-17T05:24:58.110Z"
   },
   {
    "duration": 11,
    "start_time": "2024-05-17T05:24:59.923Z"
   },
   {
    "duration": 218,
    "start_time": "2024-05-17T05:25:00.680Z"
   },
   {
    "duration": 6,
    "start_time": "2024-05-17T05:26:21.330Z"
   },
   {
    "duration": 8,
    "start_time": "2024-05-17T05:26:21.926Z"
   },
   {
    "duration": 197,
    "start_time": "2024-05-17T05:26:22.661Z"
   },
   {
    "duration": 5029,
    "start_time": "2024-05-17T05:29:32.254Z"
   },
   {
    "duration": 1985,
    "start_time": "2024-05-17T05:29:37.286Z"
   },
   {
    "duration": 21,
    "start_time": "2024-05-17T05:29:39.277Z"
   },
   {
    "duration": 9,
    "start_time": "2024-05-17T05:29:39.303Z"
   },
   {
    "duration": 24,
    "start_time": "2024-05-17T05:29:39.316Z"
   },
   {
    "duration": 16,
    "start_time": "2024-05-17T05:29:39.343Z"
   },
   {
    "duration": 7,
    "start_time": "2024-05-17T05:29:39.363Z"
   },
   {
    "duration": 50,
    "start_time": "2024-05-17T05:29:39.374Z"
   },
   {
    "duration": 4,
    "start_time": "2024-05-17T05:29:39.428Z"
   },
   {
    "duration": 68,
    "start_time": "2024-05-17T05:29:39.439Z"
   },
   {
    "duration": 6398,
    "start_time": "2024-05-17T05:29:39.511Z"
   },
   {
    "duration": 8,
    "start_time": "2024-05-17T05:29:45.912Z"
   },
   {
    "duration": 13,
    "start_time": "2024-05-17T05:29:45.924Z"
   },
   {
    "duration": 18,
    "start_time": "2024-05-17T05:29:45.940Z"
   },
   {
    "duration": 17,
    "start_time": "2024-05-17T05:29:45.961Z"
   },
   {
    "duration": 79,
    "start_time": "2024-05-17T05:29:45.981Z"
   },
   {
    "duration": 83,
    "start_time": "2024-05-17T05:29:46.064Z"
   },
   {
    "duration": 61,
    "start_time": "2024-05-17T05:29:46.151Z"
   },
   {
    "duration": 11,
    "start_time": "2024-05-17T05:29:46.215Z"
   },
   {
    "duration": 228,
    "start_time": "2024-05-17T05:29:46.229Z"
   },
   {
    "duration": 6,
    "start_time": "2024-05-17T05:29:46.460Z"
   },
   {
    "duration": 6,
    "start_time": "2024-05-17T05:29:46.470Z"
   },
   {
    "duration": 34,
    "start_time": "2024-05-17T05:29:46.479Z"
   },
   {
    "duration": 5,
    "start_time": "2024-05-17T05:29:46.517Z"
   },
   {
    "duration": 18,
    "start_time": "2024-05-17T05:29:46.526Z"
   },
   {
    "duration": 742,
    "start_time": "2024-05-17T05:29:46.548Z"
   },
   {
    "duration": 0,
    "start_time": "2024-05-17T05:29:47.295Z"
   },
   {
    "duration": 0,
    "start_time": "2024-05-17T05:29:47.297Z"
   },
   {
    "duration": 1,
    "start_time": "2024-05-17T05:29:47.298Z"
   },
   {
    "duration": 0,
    "start_time": "2024-05-17T05:29:47.308Z"
   },
   {
    "duration": 0,
    "start_time": "2024-05-17T05:29:47.322Z"
   },
   {
    "duration": 0,
    "start_time": "2024-05-17T05:29:47.325Z"
   },
   {
    "duration": 0,
    "start_time": "2024-05-17T05:29:47.327Z"
   },
   {
    "duration": 0,
    "start_time": "2024-05-17T05:29:47.330Z"
   },
   {
    "duration": 0,
    "start_time": "2024-05-17T05:29:47.333Z"
   },
   {
    "duration": 8,
    "start_time": "2024-05-17T05:30:56.193Z"
   },
   {
    "duration": 4819,
    "start_time": "2024-05-17T05:31:07.996Z"
   },
   {
    "duration": 1824,
    "start_time": "2024-05-17T05:31:12.818Z"
   },
   {
    "duration": 12,
    "start_time": "2024-05-17T05:31:14.657Z"
   },
   {
    "duration": 6,
    "start_time": "2024-05-17T05:31:14.673Z"
   },
   {
    "duration": 41,
    "start_time": "2024-05-17T05:31:14.683Z"
   },
   {
    "duration": 16,
    "start_time": "2024-05-17T05:31:14.730Z"
   },
   {
    "duration": 5,
    "start_time": "2024-05-17T05:31:14.749Z"
   },
   {
    "duration": 16,
    "start_time": "2024-05-17T05:31:14.757Z"
   },
   {
    "duration": 3,
    "start_time": "2024-05-17T05:31:14.776Z"
   },
   {
    "duration": 47,
    "start_time": "2024-05-17T05:31:14.813Z"
   },
   {
    "duration": 6091,
    "start_time": "2024-05-17T05:31:14.863Z"
   },
   {
    "duration": 8,
    "start_time": "2024-05-17T05:31:20.957Z"
   },
   {
    "duration": 19,
    "start_time": "2024-05-17T05:31:20.969Z"
   },
   {
    "duration": 17,
    "start_time": "2024-05-17T05:31:20.991Z"
   },
   {
    "duration": 19,
    "start_time": "2024-05-17T05:31:21.012Z"
   },
   {
    "duration": 53,
    "start_time": "2024-05-17T05:31:21.038Z"
   },
   {
    "duration": 71,
    "start_time": "2024-05-17T05:31:21.110Z"
   },
   {
    "duration": 67,
    "start_time": "2024-05-17T05:31:21.184Z"
   },
   {
    "duration": 14,
    "start_time": "2024-05-17T05:31:21.254Z"
   },
   {
    "duration": 243,
    "start_time": "2024-05-17T05:31:21.271Z"
   },
   {
    "duration": 7,
    "start_time": "2024-05-17T05:31:21.518Z"
   },
   {
    "duration": 8,
    "start_time": "2024-05-17T05:31:21.529Z"
   },
   {
    "duration": 9,
    "start_time": "2024-05-17T05:31:21.541Z"
   },
   {
    "duration": 7,
    "start_time": "2024-05-17T05:31:21.554Z"
   },
   {
    "duration": 51,
    "start_time": "2024-05-17T05:31:21.566Z"
   },
   {
    "duration": 6,
    "start_time": "2024-05-17T05:31:21.621Z"
   },
   {
    "duration": 8,
    "start_time": "2024-05-17T05:31:21.632Z"
   },
   {
    "duration": 7,
    "start_time": "2024-05-17T05:31:21.652Z"
   },
   {
    "duration": 55,
    "start_time": "2024-05-17T05:31:21.664Z"
   },
   {
    "duration": 23,
    "start_time": "2024-05-17T05:31:21.722Z"
   },
   {
    "duration": 57,
    "start_time": "2024-05-17T05:31:21.754Z"
   },
   {
    "duration": 9,
    "start_time": "2024-05-17T05:31:21.814Z"
   },
   {
    "duration": 7,
    "start_time": "2024-05-17T05:31:21.826Z"
   },
   {
    "duration": 8,
    "start_time": "2024-05-17T05:31:21.837Z"
   },
   {
    "duration": 5,
    "start_time": "2024-05-17T05:31:21.848Z"
   },
   {
    "duration": 5,
    "start_time": "2024-05-17T05:33:48.551Z"
   },
   {
    "duration": 10,
    "start_time": "2024-05-17T05:58:58.643Z"
   },
   {
    "duration": 696,
    "start_time": "2024-05-17T05:59:02.487Z"
   },
   {
    "duration": 9,
    "start_time": "2024-05-17T06:00:19.402Z"
   },
   {
    "duration": 196,
    "start_time": "2024-05-17T06:00:21.191Z"
   },
   {
    "duration": 10,
    "start_time": "2024-05-17T06:00:57.432Z"
   },
   {
    "duration": 7,
    "start_time": "2024-05-17T06:00:58.467Z"
   },
   {
    "duration": 207,
    "start_time": "2024-05-17T06:00:59.234Z"
   },
   {
    "duration": 6,
    "start_time": "2024-05-17T06:02:03.870Z"
   },
   {
    "duration": 10,
    "start_time": "2024-05-17T06:02:04.534Z"
   },
   {
    "duration": 194,
    "start_time": "2024-05-17T06:02:05.072Z"
   },
   {
    "duration": 6,
    "start_time": "2024-05-17T06:02:18.982Z"
   },
   {
    "duration": 8,
    "start_time": "2024-05-17T06:02:19.503Z"
   },
   {
    "duration": 192,
    "start_time": "2024-05-17T06:02:20.067Z"
   },
   {
    "duration": 7,
    "start_time": "2024-05-17T06:02:38.570Z"
   },
   {
    "duration": 8,
    "start_time": "2024-05-17T06:02:39.449Z"
   },
   {
    "duration": 201,
    "start_time": "2024-05-17T06:02:40.010Z"
   },
   {
    "duration": 5,
    "start_time": "2024-05-17T06:04:10.029Z"
   },
   {
    "duration": 8,
    "start_time": "2024-05-17T06:04:10.730Z"
   },
   {
    "duration": 199,
    "start_time": "2024-05-17T06:04:11.311Z"
   },
   {
    "duration": 10,
    "start_time": "2024-05-17T06:06:15.961Z"
   },
   {
    "duration": 202,
    "start_time": "2024-05-17T06:06:16.511Z"
   },
   {
    "duration": 4920,
    "start_time": "2024-05-17T06:07:39.646Z"
   },
   {
    "duration": 1919,
    "start_time": "2024-05-17T06:07:44.578Z"
   },
   {
    "duration": 21,
    "start_time": "2024-05-17T06:07:46.500Z"
   },
   {
    "duration": 14,
    "start_time": "2024-05-17T06:07:46.528Z"
   },
   {
    "duration": 22,
    "start_time": "2024-05-17T06:07:46.550Z"
   },
   {
    "duration": 17,
    "start_time": "2024-05-17T06:07:46.576Z"
   },
   {
    "duration": 9,
    "start_time": "2024-05-17T06:07:46.611Z"
   },
   {
    "duration": 16,
    "start_time": "2024-05-17T06:07:46.624Z"
   },
   {
    "duration": 4,
    "start_time": "2024-05-17T06:07:46.642Z"
   },
   {
    "duration": 66,
    "start_time": "2024-05-17T06:07:46.650Z"
   },
   {
    "duration": 6376,
    "start_time": "2024-05-17T06:07:46.719Z"
   },
   {
    "duration": 4,
    "start_time": "2024-05-17T06:07:53.098Z"
   },
   {
    "duration": 9,
    "start_time": "2024-05-17T06:07:53.105Z"
   },
   {
    "duration": 17,
    "start_time": "2024-05-17T06:07:53.123Z"
   },
   {
    "duration": 16,
    "start_time": "2024-05-17T06:07:53.143Z"
   },
   {
    "duration": 79,
    "start_time": "2024-05-17T06:07:53.162Z"
   },
   {
    "duration": 87,
    "start_time": "2024-05-17T06:07:53.244Z"
   },
   {
    "duration": 51,
    "start_time": "2024-05-17T06:07:53.335Z"
   },
   {
    "duration": 32,
    "start_time": "2024-05-17T06:07:53.389Z"
   },
   {
    "duration": 294,
    "start_time": "2024-05-17T06:07:53.426Z"
   },
   {
    "duration": 6,
    "start_time": "2024-05-17T06:07:53.724Z"
   },
   {
    "duration": 5,
    "start_time": "2024-05-17T06:07:53.734Z"
   },
   {
    "duration": 8,
    "start_time": "2024-05-17T06:07:53.745Z"
   },
   {
    "duration": 6,
    "start_time": "2024-05-17T06:07:53.757Z"
   },
   {
    "duration": 49,
    "start_time": "2024-05-17T06:07:53.767Z"
   },
   {
    "duration": 0,
    "start_time": "2024-05-17T06:07:53.820Z"
   },
   {
    "duration": 0,
    "start_time": "2024-05-17T06:07:53.822Z"
   },
   {
    "duration": 0,
    "start_time": "2024-05-17T06:07:53.824Z"
   },
   {
    "duration": 0,
    "start_time": "2024-05-17T06:07:53.826Z"
   },
   {
    "duration": 0,
    "start_time": "2024-05-17T06:07:53.828Z"
   },
   {
    "duration": 0,
    "start_time": "2024-05-17T06:07:53.830Z"
   },
   {
    "duration": 1,
    "start_time": "2024-05-17T06:07:53.831Z"
   },
   {
    "duration": 0,
    "start_time": "2024-05-17T06:07:53.833Z"
   },
   {
    "duration": 0,
    "start_time": "2024-05-17T06:07:53.835Z"
   },
   {
    "duration": 0,
    "start_time": "2024-05-17T06:07:53.837Z"
   },
   {
    "duration": 0,
    "start_time": "2024-05-17T06:07:53.839Z"
   },
   {
    "duration": 6,
    "start_time": "2024-05-17T06:08:36.563Z"
   },
   {
    "duration": 11,
    "start_time": "2024-05-17T06:08:37.271Z"
   },
   {
    "duration": 748,
    "start_time": "2024-05-17T06:08:38.818Z"
   },
   {
    "duration": 12,
    "start_time": "2024-05-17T06:08:55.216Z"
   },
   {
    "duration": 191,
    "start_time": "2024-05-17T06:08:55.669Z"
   },
   {
    "duration": 11,
    "start_time": "2024-05-17T06:09:08.224Z"
   },
   {
    "duration": 5,
    "start_time": "2024-05-17T06:09:24.055Z"
   },
   {
    "duration": 23,
    "start_time": "2024-05-17T06:09:27.946Z"
   },
   {
    "duration": 5,
    "start_time": "2024-05-17T06:09:42.200Z"
   },
   {
    "duration": 4,
    "start_time": "2024-05-17T06:09:42.735Z"
   },
   {
    "duration": 6,
    "start_time": "2024-05-17T06:09:44.890Z"
   },
   {
    "duration": 9,
    "start_time": "2024-05-17T06:09:51.539Z"
   },
   {
    "duration": 36,
    "start_time": "2024-05-17T06:15:03.341Z"
   },
   {
    "duration": 39,
    "start_time": "2024-05-17T06:15:15.703Z"
   },
   {
    "duration": 16,
    "start_time": "2024-05-17T06:15:26.376Z"
   },
   {
    "duration": 35,
    "start_time": "2024-05-17T06:15:45.559Z"
   },
   {
    "duration": 36,
    "start_time": "2024-05-17T06:15:53.109Z"
   },
   {
    "duration": 44,
    "start_time": "2024-05-17T06:16:15.254Z"
   },
   {
    "duration": 39,
    "start_time": "2024-05-17T06:16:25.522Z"
   },
   {
    "duration": 36,
    "start_time": "2024-05-17T06:16:31.289Z"
   },
   {
    "duration": 10,
    "start_time": "2024-05-17T06:17:48.483Z"
   },
   {
    "duration": 14,
    "start_time": "2024-05-17T06:18:13.811Z"
   },
   {
    "duration": 8,
    "start_time": "2024-05-17T06:18:18.815Z"
   },
   {
    "duration": 10,
    "start_time": "2024-05-17T06:18:25.562Z"
   },
   {
    "duration": 34,
    "start_time": "2024-05-17T06:18:36.456Z"
   },
   {
    "duration": 7,
    "start_time": "2024-05-17T06:21:38.830Z"
   },
   {
    "duration": 545,
    "start_time": "2024-05-17T06:23:35.943Z"
   },
   {
    "duration": 80,
    "start_time": "2024-05-17T06:23:48.775Z"
   },
   {
    "duration": 38,
    "start_time": "2024-05-17T06:24:01.788Z"
   },
   {
    "duration": 97,
    "start_time": "2024-05-17T06:24:12.368Z"
   },
   {
    "duration": 175,
    "start_time": "2024-05-17T06:25:42.882Z"
   },
   {
    "duration": 138,
    "start_time": "2024-05-17T06:26:08.887Z"
   },
   {
    "duration": 5271,
    "start_time": "2024-05-19T04:23:12.205Z"
   },
   {
    "duration": 17,
    "start_time": "2024-05-19T04:23:17.480Z"
   },
   {
    "duration": 7,
    "start_time": "2024-05-19T04:23:17.500Z"
   },
   {
    "duration": 40,
    "start_time": "2024-05-19T04:23:17.512Z"
   },
   {
    "duration": 16,
    "start_time": "2024-05-19T04:23:17.556Z"
   },
   {
    "duration": 6,
    "start_time": "2024-05-19T04:23:17.576Z"
   },
   {
    "duration": 52,
    "start_time": "2024-05-19T04:23:17.585Z"
   },
   {
    "duration": 4,
    "start_time": "2024-05-19T04:23:17.640Z"
   },
   {
    "duration": 31,
    "start_time": "2024-05-19T04:23:17.647Z"
   },
   {
    "duration": 5073,
    "start_time": "2024-05-19T04:23:17.683Z"
   },
   {
    "duration": 7,
    "start_time": "2024-05-19T04:23:22.759Z"
   },
   {
    "duration": 7,
    "start_time": "2024-05-19T04:23:22.769Z"
   },
   {
    "duration": 15,
    "start_time": "2024-05-19T04:23:22.779Z"
   },
   {
    "duration": 47,
    "start_time": "2024-05-19T04:23:22.797Z"
   },
   {
    "duration": 51,
    "start_time": "2024-05-19T04:23:22.847Z"
   },
   {
    "duration": 77,
    "start_time": "2024-05-19T04:23:22.901Z"
   },
   {
    "duration": 66,
    "start_time": "2024-05-19T04:23:22.980Z"
   },
   {
    "duration": 15,
    "start_time": "2024-05-19T04:23:23.050Z"
   },
   {
    "duration": 207,
    "start_time": "2024-05-19T04:23:23.072Z"
   },
   {
    "duration": 5,
    "start_time": "2024-05-19T04:23:23.282Z"
   },
   {
    "duration": 5,
    "start_time": "2024-05-19T04:23:23.290Z"
   },
   {
    "duration": 34,
    "start_time": "2024-05-19T04:23:23.298Z"
   },
   {
    "duration": 5,
    "start_time": "2024-05-19T04:23:23.335Z"
   },
   {
    "duration": 7,
    "start_time": "2024-05-19T04:23:23.344Z"
   },
   {
    "duration": 672,
    "start_time": "2024-05-19T04:23:23.355Z"
   },
   {
    "duration": 7,
    "start_time": "2024-05-19T04:25:44.982Z"
   },
   {
    "duration": 154,
    "start_time": "2024-05-19T04:25:45.723Z"
   },
   {
    "duration": 8,
    "start_time": "2024-05-19T04:26:06.437Z"
   },
   {
    "duration": 7,
    "start_time": "2024-05-19T04:26:09.067Z"
   },
   {
    "duration": 171,
    "start_time": "2024-05-19T04:26:09.628Z"
   },
   {
    "duration": 4,
    "start_time": "2024-05-19T04:26:59.276Z"
   },
   {
    "duration": 7,
    "start_time": "2024-05-19T04:27:01.091Z"
   },
   {
    "duration": 170,
    "start_time": "2024-05-19T04:27:01.734Z"
   },
   {
    "duration": 5,
    "start_time": "2024-05-19T04:27:31.811Z"
   },
   {
    "duration": 10,
    "start_time": "2024-05-19T04:27:32.934Z"
   },
   {
    "duration": 169,
    "start_time": "2024-05-19T04:27:33.530Z"
   },
   {
    "duration": 6,
    "start_time": "2024-05-19T04:27:45.997Z"
   },
   {
    "duration": 149,
    "start_time": "2024-05-19T04:27:46.443Z"
   },
   {
    "duration": 5,
    "start_time": "2024-05-19T04:28:20.672Z"
   },
   {
    "duration": 7,
    "start_time": "2024-05-19T04:28:21.800Z"
   },
   {
    "duration": 159,
    "start_time": "2024-05-19T04:28:22.295Z"
   },
   {
    "duration": 5,
    "start_time": "2024-05-19T04:28:46.112Z"
   },
   {
    "duration": 6,
    "start_time": "2024-05-19T04:28:47.053Z"
   },
   {
    "duration": 171,
    "start_time": "2024-05-19T04:28:47.511Z"
   },
   {
    "duration": 4,
    "start_time": "2024-05-19T04:29:03.413Z"
   },
   {
    "duration": 7,
    "start_time": "2024-05-19T04:29:03.836Z"
   },
   {
    "duration": 146,
    "start_time": "2024-05-19T04:29:04.485Z"
   },
   {
    "duration": 480,
    "start_time": "2024-05-19T04:30:52.832Z"
   },
   {
    "duration": 117,
    "start_time": "2024-05-19T04:31:42.898Z"
   },
   {
    "duration": 9,
    "start_time": "2024-05-19T04:32:24.752Z"
   },
   {
    "duration": 4,
    "start_time": "2024-05-19T04:32:29.409Z"
   },
   {
    "duration": 7,
    "start_time": "2024-05-19T04:32:29.981Z"
   },
   {
    "duration": 108,
    "start_time": "2024-05-19T04:32:32.674Z"
   },
   {
    "duration": 5,
    "start_time": "2024-05-19T04:32:48.685Z"
   },
   {
    "duration": 10,
    "start_time": "2024-05-19T04:32:49.350Z"
   },
   {
    "duration": 6,
    "start_time": "2024-05-19T04:32:49.599Z"
   },
   {
    "duration": 15,
    "start_time": "2024-05-19T04:32:49.692Z"
   },
   {
    "duration": 13,
    "start_time": "2024-05-19T04:32:49.763Z"
   },
   {
    "duration": 5,
    "start_time": "2024-05-19T04:32:49.847Z"
   },
   {
    "duration": 13,
    "start_time": "2024-05-19T04:32:49.931Z"
   },
   {
    "duration": 3,
    "start_time": "2024-05-19T04:32:50.031Z"
   },
   {
    "duration": 30,
    "start_time": "2024-05-19T04:32:50.104Z"
   },
   {
    "duration": 5128,
    "start_time": "2024-05-19T04:32:50.522Z"
   },
   {
    "duration": 4,
    "start_time": "2024-05-19T04:32:55.654Z"
   },
   {
    "duration": 6,
    "start_time": "2024-05-19T04:32:55.662Z"
   },
   {
    "duration": 15,
    "start_time": "2024-05-19T04:32:55.673Z"
   },
   {
    "duration": 48,
    "start_time": "2024-05-19T04:32:55.691Z"
   },
   {
    "duration": 41,
    "start_time": "2024-05-19T04:32:55.742Z"
   },
   {
    "duration": 88,
    "start_time": "2024-05-19T04:32:55.787Z"
   },
   {
    "duration": 62,
    "start_time": "2024-05-19T04:32:55.878Z"
   },
   {
    "duration": 11,
    "start_time": "2024-05-19T04:32:55.945Z"
   },
   {
    "duration": 179,
    "start_time": "2024-05-19T04:32:55.961Z"
   },
   {
    "duration": 5,
    "start_time": "2024-05-19T04:32:56.143Z"
   },
   {
    "duration": 4,
    "start_time": "2024-05-19T04:32:56.152Z"
   },
   {
    "duration": 5,
    "start_time": "2024-05-19T04:32:56.159Z"
   },
   {
    "duration": 8,
    "start_time": "2024-05-19T04:32:56.168Z"
   },
   {
    "duration": 4,
    "start_time": "2024-05-19T04:32:56.334Z"
   },
   {
    "duration": 8,
    "start_time": "2024-05-19T04:32:56.420Z"
   },
   {
    "duration": 148,
    "start_time": "2024-05-19T04:32:56.895Z"
   },
   {
    "duration": 5,
    "start_time": "2024-05-19T04:33:07.413Z"
   },
   {
    "duration": 7,
    "start_time": "2024-05-19T04:33:10.836Z"
   },
   {
    "duration": 6,
    "start_time": "2024-05-19T04:33:11.022Z"
   },
   {
    "duration": 107,
    "start_time": "2024-05-19T04:33:11.187Z"
   },
   {
    "duration": 5,
    "start_time": "2024-05-19T04:33:41.851Z"
   },
   {
    "duration": 9,
    "start_time": "2024-05-19T04:33:42.485Z"
   },
   {
    "duration": 5,
    "start_time": "2024-05-19T04:33:43.559Z"
   },
   {
    "duration": 13,
    "start_time": "2024-05-19T04:33:43.837Z"
   },
   {
    "duration": 14,
    "start_time": "2024-05-19T04:33:44.293Z"
   },
   {
    "duration": 4,
    "start_time": "2024-05-19T04:33:44.802Z"
   },
   {
    "duration": 15,
    "start_time": "2024-05-19T04:33:45.210Z"
   },
   {
    "duration": 3,
    "start_time": "2024-05-19T04:33:45.537Z"
   },
   {
    "duration": 27,
    "start_time": "2024-05-19T04:33:45.936Z"
   },
   {
    "duration": 5133,
    "start_time": "2024-05-19T04:33:47.155Z"
   },
   {
    "duration": 4,
    "start_time": "2024-05-19T04:33:52.291Z"
   },
   {
    "duration": 7,
    "start_time": "2024-05-19T04:33:52.298Z"
   },
   {
    "duration": 16,
    "start_time": "2024-05-19T04:33:52.335Z"
   },
   {
    "duration": 15,
    "start_time": "2024-05-19T04:33:52.354Z"
   },
   {
    "duration": 66,
    "start_time": "2024-05-19T04:33:52.373Z"
   },
   {
    "duration": 58,
    "start_time": "2024-05-19T04:33:52.443Z"
   },
   {
    "duration": 66,
    "start_time": "2024-05-19T04:33:52.504Z"
   },
   {
    "duration": 11,
    "start_time": "2024-05-19T04:33:52.573Z"
   },
   {
    "duration": 175,
    "start_time": "2024-05-19T04:33:52.631Z"
   },
   {
    "duration": 5,
    "start_time": "2024-05-19T04:33:53.207Z"
   },
   {
    "duration": 4,
    "start_time": "2024-05-19T04:33:54.598Z"
   },
   {
    "duration": 8,
    "start_time": "2024-05-19T04:33:54.819Z"
   },
   {
    "duration": 5,
    "start_time": "2024-05-19T04:33:57.210Z"
   },
   {
    "duration": 10,
    "start_time": "2024-05-19T04:33:58.398Z"
   },
   {
    "duration": 148,
    "start_time": "2024-05-19T04:33:59.127Z"
   },
   {
    "duration": 152,
    "start_time": "2024-05-19T04:34:02.404Z"
   },
   {
    "duration": 8,
    "start_time": "2024-05-19T04:34:04.351Z"
   },
   {
    "duration": 158,
    "start_time": "2024-05-19T04:34:04.672Z"
   },
   {
    "duration": 5,
    "start_time": "2024-05-19T04:34:07.209Z"
   },
   {
    "duration": 7,
    "start_time": "2024-05-19T04:34:07.790Z"
   },
   {
    "duration": 148,
    "start_time": "2024-05-19T04:34:08.015Z"
   },
   {
    "duration": 5,
    "start_time": "2024-05-19T04:34:20.704Z"
   },
   {
    "duration": 107,
    "start_time": "2024-05-19T04:34:36.682Z"
   },
   {
    "duration": 111,
    "start_time": "2024-05-19T04:36:13.133Z"
   },
   {
    "duration": 6,
    "start_time": "2024-05-19T04:36:15.779Z"
   },
   {
    "duration": 123,
    "start_time": "2024-05-19T04:36:16.031Z"
   },
   {
    "duration": 4,
    "start_time": "2024-05-19T04:36:18.896Z"
   },
   {
    "duration": 6,
    "start_time": "2024-05-19T04:36:21.170Z"
   },
   {
    "duration": 120,
    "start_time": "2024-05-19T04:36:21.923Z"
   },
   {
    "duration": 5,
    "start_time": "2024-05-19T04:36:25.680Z"
   },
   {
    "duration": 4,
    "start_time": "2024-05-19T04:36:33.583Z"
   },
   {
    "duration": 11,
    "start_time": "2024-05-19T04:36:33.774Z"
   },
   {
    "duration": 5,
    "start_time": "2024-05-19T04:36:34.701Z"
   },
   {
    "duration": 7,
    "start_time": "2024-05-19T04:36:34.877Z"
   },
   {
    "duration": 153,
    "start_time": "2024-05-19T04:36:35.829Z"
   },
   {
    "duration": 6,
    "start_time": "2024-05-19T04:36:41.375Z"
   },
   {
    "duration": 4,
    "start_time": "2024-05-19T04:36:41.911Z"
   },
   {
    "duration": 9,
    "start_time": "2024-05-19T04:36:42.069Z"
   },
   {
    "duration": 4,
    "start_time": "2024-05-19T04:36:43.121Z"
   },
   {
    "duration": 11,
    "start_time": "2024-05-19T04:36:43.464Z"
   },
   {
    "duration": 148,
    "start_time": "2024-05-19T04:36:43.627Z"
   },
   {
    "duration": 17,
    "start_time": "2024-05-19T04:38:24.158Z"
   },
   {
    "duration": 8,
    "start_time": "2024-05-19T04:38:32.138Z"
   },
   {
    "duration": 4,
    "start_time": "2024-05-19T04:38:32.958Z"
   },
   {
    "duration": 8,
    "start_time": "2024-05-19T04:38:33.119Z"
   },
   {
    "duration": 7,
    "start_time": "2024-05-19T04:38:34.724Z"
   },
   {
    "duration": 7,
    "start_time": "2024-05-19T04:38:34.858Z"
   },
   {
    "duration": 147,
    "start_time": "2024-05-19T04:38:35.010Z"
   },
   {
    "duration": 5,
    "start_time": "2024-05-19T04:38:47.129Z"
   },
   {
    "duration": 6,
    "start_time": "2024-05-19T04:38:47.320Z"
   },
   {
    "duration": 148,
    "start_time": "2024-05-19T04:38:47.502Z"
   },
   {
    "duration": 5,
    "start_time": "2024-05-19T04:38:57.132Z"
   },
   {
    "duration": 5,
    "start_time": "2024-05-19T04:38:59.926Z"
   },
   {
    "duration": 7,
    "start_time": "2024-05-19T04:39:00.176Z"
   },
   {
    "duration": 259,
    "start_time": "2024-05-19T04:39:00.658Z"
   },
   {
    "duration": 6,
    "start_time": "2024-05-19T04:39:30.137Z"
   },
   {
    "duration": 4,
    "start_time": "2024-05-19T04:39:31.979Z"
   },
   {
    "duration": 8,
    "start_time": "2024-05-19T04:39:32.525Z"
   },
   {
    "duration": 4,
    "start_time": "2024-05-19T04:39:43.407Z"
   },
   {
    "duration": 6,
    "start_time": "2024-05-19T04:39:44.629Z"
   },
   {
    "duration": 176,
    "start_time": "2024-05-19T04:39:45.271Z"
   },
   {
    "duration": 5,
    "start_time": "2024-05-19T04:39:53.634Z"
   },
   {
    "duration": 105,
    "start_time": "2024-05-19T04:39:58.563Z"
   },
   {
    "duration": 4,
    "start_time": "2024-05-19T04:41:02.220Z"
   },
   {
    "duration": 6,
    "start_time": "2024-05-19T04:41:02.484Z"
   },
   {
    "duration": 108,
    "start_time": "2024-05-19T04:41:04.876Z"
   },
   {
    "duration": 5,
    "start_time": "2024-05-19T04:47:50.783Z"
   },
   {
    "duration": 4,
    "start_time": "2024-05-19T04:47:51.363Z"
   },
   {
    "duration": 6,
    "start_time": "2024-05-19T04:47:52.448Z"
   },
   {
    "duration": 5,
    "start_time": "2024-05-19T04:47:53.946Z"
   },
   {
    "duration": 8,
    "start_time": "2024-05-19T04:48:02.005Z"
   },
   {
    "duration": 6,
    "start_time": "2024-05-19T04:48:20.415Z"
   },
   {
    "duration": 23,
    "start_time": "2024-05-19T04:48:59.702Z"
   },
   {
    "duration": 11,
    "start_time": "2024-05-19T04:49:05.737Z"
   },
   {
    "duration": 10,
    "start_time": "2024-05-19T04:53:31.196Z"
   },
   {
    "duration": 5,
    "start_time": "2024-05-19T04:55:02.752Z"
   },
   {
    "duration": 33,
    "start_time": "2024-05-19T04:55:03.068Z"
   },
   {
    "duration": 10,
    "start_time": "2024-05-19T04:55:09.181Z"
   },
   {
    "duration": 5,
    "start_time": "2024-05-19T04:55:09.840Z"
   },
   {
    "duration": 15,
    "start_time": "2024-05-19T04:55:09.941Z"
   },
   {
    "duration": 14,
    "start_time": "2024-05-19T04:55:10.007Z"
   },
   {
    "duration": 5,
    "start_time": "2024-05-19T04:55:10.090Z"
   },
   {
    "duration": 14,
    "start_time": "2024-05-19T04:55:10.276Z"
   },
   {
    "duration": 4,
    "start_time": "2024-05-19T04:55:10.293Z"
   },
   {
    "duration": 27,
    "start_time": "2024-05-19T04:55:10.344Z"
   },
   {
    "duration": 5137,
    "start_time": "2024-05-19T04:55:10.758Z"
   },
   {
    "duration": 5,
    "start_time": "2024-05-19T04:55:15.899Z"
   },
   {
    "duration": 7,
    "start_time": "2024-05-19T04:55:15.929Z"
   },
   {
    "duration": 14,
    "start_time": "2024-05-19T04:55:15.941Z"
   },
   {
    "duration": 15,
    "start_time": "2024-05-19T04:55:15.958Z"
   },
   {
    "duration": 72,
    "start_time": "2024-05-19T04:55:15.976Z"
   },
   {
    "duration": 54,
    "start_time": "2024-05-19T04:55:16.052Z"
   },
   {
    "duration": 56,
    "start_time": "2024-05-19T04:55:16.109Z"
   },
   {
    "duration": 12,
    "start_time": "2024-05-19T04:55:16.169Z"
   },
   {
    "duration": 217,
    "start_time": "2024-05-19T04:55:16.186Z"
   },
   {
    "duration": 5,
    "start_time": "2024-05-19T04:55:16.406Z"
   },
   {
    "duration": 17,
    "start_time": "2024-05-19T04:55:16.414Z"
   },
   {
    "duration": 9,
    "start_time": "2024-05-19T04:55:16.435Z"
   },
   {
    "duration": 6,
    "start_time": "2024-05-19T04:55:16.447Z"
   },
   {
    "duration": 8,
    "start_time": "2024-05-19T04:55:16.456Z"
   },
   {
    "duration": 373,
    "start_time": "2024-05-19T04:55:16.467Z"
   },
   {
    "duration": 4,
    "start_time": "2024-05-19T04:55:21.530Z"
   },
   {
    "duration": 7,
    "start_time": "2024-05-19T04:55:24.825Z"
   },
   {
    "duration": 9,
    "start_time": "2024-05-19T04:55:25.030Z"
   },
   {
    "duration": 134,
    "start_time": "2024-05-19T04:55:25.216Z"
   },
   {
    "duration": 8,
    "start_time": "2024-05-19T04:55:28.411Z"
   },
   {
    "duration": 6,
    "start_time": "2024-05-19T04:55:28.825Z"
   },
   {
    "duration": 19,
    "start_time": "2024-05-19T04:55:28.990Z"
   },
   {
    "duration": 6,
    "start_time": "2024-05-19T04:55:29.579Z"
   },
   {
    "duration": 4,
    "start_time": "2024-05-19T04:55:33.372Z"
   },
   {
    "duration": 5,
    "start_time": "2024-05-19T04:55:33.944Z"
   },
   {
    "duration": 5,
    "start_time": "2024-05-19T04:55:34.367Z"
   },
   {
    "duration": 9,
    "start_time": "2024-05-19T04:55:34.952Z"
   },
   {
    "duration": 9,
    "start_time": "2024-05-19T04:55:43.939Z"
   },
   {
    "duration": 5,
    "start_time": "2024-05-19T04:55:52.210Z"
   },
   {
    "duration": 93,
    "start_time": "2024-05-19T04:55:52.557Z"
   },
   {
    "duration": 5,
    "start_time": "2024-05-19T04:58:41.797Z"
   },
   {
    "duration": 84,
    "start_time": "2024-05-19T04:58:46.255Z"
   },
   {
    "duration": 50,
    "start_time": "2024-05-19T04:58:50.996Z"
   },
   {
    "duration": 108,
    "start_time": "2024-05-19T04:58:53.539Z"
   },
   {
    "duration": 43,
    "start_time": "2024-05-19T04:58:58.211Z"
   },
   {
    "duration": 196,
    "start_time": "2024-05-19T04:59:00.458Z"
   },
   {
    "duration": 117,
    "start_time": "2024-05-19T04:59:05.816Z"
   },
   {
    "duration": 6,
    "start_time": "2024-05-19T05:00:11.013Z"
   },
   {
    "duration": 29,
    "start_time": "2024-05-19T05:00:18.117Z"
   },
   {
    "duration": 38,
    "start_time": "2024-05-19T05:01:19.420Z"
   },
   {
    "duration": 15,
    "start_time": "2024-05-19T05:01:42.861Z"
   },
   {
    "duration": 266,
    "start_time": "2024-05-19T05:22:18.259Z"
   },
   {
    "duration": 4495,
    "start_time": "2024-05-19T20:20:49.779Z"
   },
   {
    "duration": 6642,
    "start_time": "2024-05-19T20:20:54.279Z"
   },
   {
    "duration": 95,
    "start_time": "2024-05-19T20:21:00.924Z"
   },
   {
    "duration": 6,
    "start_time": "2024-05-19T20:21:01.024Z"
   },
   {
    "duration": 25,
    "start_time": "2024-05-19T20:21:01.033Z"
   },
   {
    "duration": 48,
    "start_time": "2024-05-19T20:21:01.061Z"
   },
   {
    "duration": 10,
    "start_time": "2024-05-19T20:21:01.117Z"
   },
   {
    "duration": 16,
    "start_time": "2024-05-19T20:21:01.131Z"
   },
   {
    "duration": 4,
    "start_time": "2024-05-19T20:21:01.150Z"
   },
   {
    "duration": 71,
    "start_time": "2024-05-19T20:21:01.161Z"
   },
   {
    "duration": 5317,
    "start_time": "2024-05-19T20:21:01.236Z"
   },
   {
    "duration": 4,
    "start_time": "2024-05-19T20:21:06.556Z"
   },
   {
    "duration": 10,
    "start_time": "2024-05-19T20:21:06.564Z"
   },
   {
    "duration": 14,
    "start_time": "2024-05-19T20:21:06.578Z"
   },
   {
    "duration": 16,
    "start_time": "2024-05-19T20:21:06.609Z"
   },
   {
    "duration": 55,
    "start_time": "2024-05-19T20:21:06.629Z"
   },
   {
    "duration": 58,
    "start_time": "2024-05-19T20:21:06.709Z"
   },
   {
    "duration": 69,
    "start_time": "2024-05-19T20:21:06.770Z"
   },
   {
    "duration": 13,
    "start_time": "2024-05-19T20:21:06.843Z"
   },
   {
    "duration": 238,
    "start_time": "2024-05-19T20:21:06.860Z"
   },
   {
    "duration": 10,
    "start_time": "2024-05-19T20:21:07.102Z"
   },
   {
    "duration": 5,
    "start_time": "2024-05-19T20:21:07.116Z"
   },
   {
    "duration": 15,
    "start_time": "2024-05-19T20:21:07.124Z"
   },
   {
    "duration": 5,
    "start_time": "2024-05-19T20:21:07.142Z"
   },
   {
    "duration": 8,
    "start_time": "2024-05-19T20:21:07.151Z"
   },
   {
    "duration": 633,
    "start_time": "2024-05-19T20:21:07.162Z"
   },
   {
    "duration": 0,
    "start_time": "2024-05-19T20:21:07.800Z"
   },
   {
    "duration": 0,
    "start_time": "2024-05-19T20:21:07.801Z"
   },
   {
    "duration": 0,
    "start_time": "2024-05-19T20:21:07.802Z"
   },
   {
    "duration": 0,
    "start_time": "2024-05-19T20:21:07.808Z"
   },
   {
    "duration": 0,
    "start_time": "2024-05-19T20:21:07.811Z"
   },
   {
    "duration": 0,
    "start_time": "2024-05-19T20:21:07.814Z"
   },
   {
    "duration": 0,
    "start_time": "2024-05-19T20:21:07.816Z"
   },
   {
    "duration": 0,
    "start_time": "2024-05-19T20:21:07.821Z"
   },
   {
    "duration": 0,
    "start_time": "2024-05-19T20:21:07.823Z"
   },
   {
    "duration": 0,
    "start_time": "2024-05-19T20:21:07.825Z"
   },
   {
    "duration": 5,
    "start_time": "2024-05-19T20:22:42.137Z"
   },
   {
    "duration": 10,
    "start_time": "2024-05-19T20:22:45.239Z"
   },
   {
    "duration": 115,
    "start_time": "2024-05-19T20:22:46.390Z"
   },
   {
    "duration": 5,
    "start_time": "2024-05-19T20:26:58.730Z"
   },
   {
    "duration": 7,
    "start_time": "2024-05-19T20:27:00.408Z"
   },
   {
    "duration": 176,
    "start_time": "2024-05-19T20:27:01.008Z"
   },
   {
    "duration": 6,
    "start_time": "2024-05-19T20:27:18.986Z"
   },
   {
    "duration": 7,
    "start_time": "2024-05-19T20:27:19.589Z"
   },
   {
    "duration": 160,
    "start_time": "2024-05-19T20:27:20.019Z"
   },
   {
    "duration": 5,
    "start_time": "2024-05-19T20:30:41.069Z"
   },
   {
    "duration": 7,
    "start_time": "2024-05-19T20:30:41.673Z"
   },
   {
    "duration": 185,
    "start_time": "2024-05-19T20:30:43.837Z"
   },
   {
    "duration": 26,
    "start_time": "2024-05-19T20:31:05.914Z"
   },
   {
    "duration": 8,
    "start_time": "2024-05-19T20:31:28.230Z"
   },
   {
    "duration": 5,
    "start_time": "2024-05-19T20:31:33.281Z"
   },
   {
    "duration": 7,
    "start_time": "2024-05-19T20:31:34.039Z"
   },
   {
    "duration": 11,
    "start_time": "2024-05-19T20:31:55.787Z"
   },
   {
    "duration": 6,
    "start_time": "2024-05-19T20:32:09.996Z"
   },
   {
    "duration": 8,
    "start_time": "2024-05-19T20:32:10.936Z"
   },
   {
    "duration": 158,
    "start_time": "2024-05-19T20:32:13.104Z"
   },
   {
    "duration": 5,
    "start_time": "2024-05-19T20:37:07.488Z"
   },
   {
    "duration": 7,
    "start_time": "2024-05-19T20:37:07.947Z"
   },
   {
    "duration": 229,
    "start_time": "2024-05-19T20:37:08.578Z"
   },
   {
    "duration": 8,
    "start_time": "2024-05-19T20:40:36.398Z"
   },
   {
    "duration": 5,
    "start_time": "2024-05-19T20:40:40.418Z"
   },
   {
    "duration": 7,
    "start_time": "2024-05-19T20:40:41.005Z"
   },
   {
    "duration": 132,
    "start_time": "2024-05-19T20:40:41.580Z"
   },
   {
    "duration": 8,
    "start_time": "2024-05-19T20:40:54.104Z"
   },
   {
    "duration": 8,
    "start_time": "2024-05-19T20:40:54.565Z"
   },
   {
    "duration": 111,
    "start_time": "2024-05-19T20:40:55.011Z"
   },
   {
    "duration": 3825,
    "start_time": "2024-05-19T20:45:39.238Z"
   },
   {
    "duration": 1529,
    "start_time": "2024-05-19T20:45:43.067Z"
   },
   {
    "duration": 24,
    "start_time": "2024-05-19T20:45:44.599Z"
   },
   {
    "duration": 6,
    "start_time": "2024-05-19T20:45:44.627Z"
   },
   {
    "duration": 20,
    "start_time": "2024-05-19T20:45:44.636Z"
   },
   {
    "duration": 50,
    "start_time": "2024-05-19T20:45:44.660Z"
   },
   {
    "duration": 7,
    "start_time": "2024-05-19T20:45:44.715Z"
   },
   {
    "duration": 14,
    "start_time": "2024-05-19T20:45:44.725Z"
   },
   {
    "duration": 4,
    "start_time": "2024-05-19T20:45:44.741Z"
   },
   {
    "duration": 82,
    "start_time": "2024-05-19T20:45:44.752Z"
   },
   {
    "duration": 4936,
    "start_time": "2024-05-19T20:45:44.837Z"
   },
   {
    "duration": 4,
    "start_time": "2024-05-19T20:45:49.776Z"
   },
   {
    "duration": 8,
    "start_time": "2024-05-19T20:45:49.783Z"
   },
   {
    "duration": 21,
    "start_time": "2024-05-19T20:45:49.794Z"
   },
   {
    "duration": 14,
    "start_time": "2024-05-19T20:45:49.818Z"
   },
   {
    "duration": 39,
    "start_time": "2024-05-19T20:45:49.835Z"
   },
   {
    "duration": 82,
    "start_time": "2024-05-19T20:45:49.876Z"
   },
   {
    "duration": 60,
    "start_time": "2024-05-19T20:45:49.961Z"
   },
   {
    "duration": 13,
    "start_time": "2024-05-19T20:45:50.024Z"
   },
   {
    "duration": 203,
    "start_time": "2024-05-19T20:45:50.040Z"
   },
   {
    "duration": 6,
    "start_time": "2024-05-19T20:45:50.246Z"
   },
   {
    "duration": 5,
    "start_time": "2024-05-19T20:45:50.256Z"
   },
   {
    "duration": 8,
    "start_time": "2024-05-19T20:45:50.264Z"
   },
   {
    "duration": 37,
    "start_time": "2024-05-19T20:45:50.275Z"
   },
   {
    "duration": 8,
    "start_time": "2024-05-19T20:45:50.315Z"
   },
   {
    "duration": 129,
    "start_time": "2024-05-19T20:45:50.327Z"
   },
   {
    "duration": 7,
    "start_time": "2024-05-19T20:45:50.459Z"
   },
   {
    "duration": 6,
    "start_time": "2024-05-19T20:45:50.473Z"
   },
   {
    "duration": 35,
    "start_time": "2024-05-19T20:45:50.482Z"
   },
   {
    "duration": 6,
    "start_time": "2024-05-19T20:45:50.520Z"
   },
   {
    "duration": 4,
    "start_time": "2024-05-19T20:45:50.529Z"
   },
   {
    "duration": 6,
    "start_time": "2024-05-19T20:45:50.535Z"
   },
   {
    "duration": 6,
    "start_time": "2024-05-19T20:45:50.610Z"
   },
   {
    "duration": 89,
    "start_time": "2024-05-19T20:45:50.620Z"
   },
   {
    "duration": 5,
    "start_time": "2024-05-19T20:45:50.712Z"
   },
   {
    "duration": 590,
    "start_time": "2024-05-19T20:45:50.720Z"
   },
   {
    "duration": 43,
    "start_time": "2024-05-19T20:48:11.465Z"
   },
   {
    "duration": 44,
    "start_time": "2024-05-19T20:48:40.910Z"
   },
   {
    "duration": 13,
    "start_time": "2024-05-19T20:48:49.502Z"
   },
   {
    "duration": 36,
    "start_time": "2024-05-19T20:49:07.023Z"
   },
   {
    "duration": 34,
    "start_time": "2024-05-19T20:49:25.714Z"
   },
   {
    "duration": 33,
    "start_time": "2024-05-19T20:50:10.943Z"
   },
   {
    "duration": 7,
    "start_time": "2024-05-19T20:51:01.626Z"
   },
   {
    "duration": 10,
    "start_time": "2024-05-19T20:52:44.908Z"
   },
   {
    "duration": 3920,
    "start_time": "2024-05-19T21:16:41.018Z"
   },
   {
    "duration": 1576,
    "start_time": "2024-05-19T21:16:44.942Z"
   },
   {
    "duration": 11,
    "start_time": "2024-05-19T21:16:46.522Z"
   },
   {
    "duration": 5,
    "start_time": "2024-05-19T21:16:46.536Z"
   },
   {
    "duration": 18,
    "start_time": "2024-05-19T21:16:46.547Z"
   },
   {
    "duration": 49,
    "start_time": "2024-05-19T21:16:46.572Z"
   },
   {
    "duration": 6,
    "start_time": "2024-05-19T21:16:46.625Z"
   },
   {
    "duration": 15,
    "start_time": "2024-05-19T21:16:46.634Z"
   },
   {
    "duration": 4,
    "start_time": "2024-05-19T21:16:46.652Z"
   },
   {
    "duration": 79,
    "start_time": "2024-05-19T21:16:46.660Z"
   },
   {
    "duration": 4985,
    "start_time": "2024-05-19T21:16:46.744Z"
   },
   {
    "duration": 5,
    "start_time": "2024-05-19T21:16:51.732Z"
   },
   {
    "duration": 7,
    "start_time": "2024-05-19T21:16:51.740Z"
   },
   {
    "duration": 16,
    "start_time": "2024-05-19T21:16:51.754Z"
   },
   {
    "duration": 14,
    "start_time": "2024-05-19T21:16:51.773Z"
   },
   {
    "duration": 40,
    "start_time": "2024-05-19T21:16:51.810Z"
   },
   {
    "duration": 77,
    "start_time": "2024-05-19T21:16:51.853Z"
   },
   {
    "duration": 48,
    "start_time": "2024-05-19T21:16:51.936Z"
   },
   {
    "duration": 29,
    "start_time": "2024-05-19T21:16:51.987Z"
   },
   {
    "duration": 192,
    "start_time": "2024-05-19T21:16:52.019Z"
   },
   {
    "duration": 5,
    "start_time": "2024-05-19T21:16:52.214Z"
   },
   {
    "duration": 5,
    "start_time": "2024-05-19T21:16:52.223Z"
   },
   {
    "duration": 7,
    "start_time": "2024-05-19T21:16:52.232Z"
   },
   {
    "duration": 5,
    "start_time": "2024-05-19T21:16:52.243Z"
   },
   {
    "duration": 8,
    "start_time": "2024-05-19T21:16:52.251Z"
   },
   {
    "duration": 116,
    "start_time": "2024-05-19T21:16:52.310Z"
   },
   {
    "duration": 7,
    "start_time": "2024-05-19T21:16:52.429Z"
   },
   {
    "duration": 5,
    "start_time": "2024-05-19T21:16:52.439Z"
   },
   {
    "duration": 11,
    "start_time": "2024-05-19T21:16:52.447Z"
   },
   {
    "duration": 9,
    "start_time": "2024-05-19T21:16:52.511Z"
   },
   {
    "duration": 3,
    "start_time": "2024-05-19T21:16:52.523Z"
   },
   {
    "duration": 81,
    "start_time": "2024-05-19T21:16:52.529Z"
   },
   {
    "duration": 5,
    "start_time": "2024-05-19T21:16:52.614Z"
   },
   {
    "duration": 14,
    "start_time": "2024-05-19T21:16:52.622Z"
   },
   {
    "duration": 69,
    "start_time": "2024-05-19T21:16:52.641Z"
   },
   {
    "duration": 526,
    "start_time": "2024-05-19T21:16:52.713Z"
   },
   {
    "duration": 265,
    "start_time": "2024-05-19T21:17:45.467Z"
   },
   {
    "duration": 213,
    "start_time": "2024-05-19T21:18:20.102Z"
   },
   {
    "duration": 137,
    "start_time": "2024-05-19T21:20:31.845Z"
   },
   {
    "duration": 179,
    "start_time": "2024-05-19T21:20:42.131Z"
   },
   {
    "duration": 14,
    "start_time": "2024-05-19T21:22:59.210Z"
   },
   {
    "duration": 10,
    "start_time": "2024-05-19T21:23:33.209Z"
   },
   {
    "duration": 13,
    "start_time": "2024-05-19T21:23:43.113Z"
   },
   {
    "duration": 23,
    "start_time": "2024-05-19T21:23:51.788Z"
   },
   {
    "duration": 22,
    "start_time": "2024-05-19T21:24:13.489Z"
   },
   {
    "duration": 12,
    "start_time": "2024-05-19T21:24:34.731Z"
   },
   {
    "duration": 23,
    "start_time": "2024-05-19T21:25:30.711Z"
   },
   {
    "duration": 3894,
    "start_time": "2024-05-19T21:34:55.768Z"
   },
   {
    "duration": 1534,
    "start_time": "2024-05-19T21:34:59.667Z"
   },
   {
    "duration": 11,
    "start_time": "2024-05-19T21:35:01.208Z"
   },
   {
    "duration": 5,
    "start_time": "2024-05-19T21:35:01.224Z"
   },
   {
    "duration": 18,
    "start_time": "2024-05-19T21:35:01.232Z"
   },
   {
    "duration": 16,
    "start_time": "2024-05-19T21:35:01.253Z"
   },
   {
    "duration": 6,
    "start_time": "2024-05-19T21:35:01.309Z"
   },
   {
    "duration": 13,
    "start_time": "2024-05-19T21:35:01.318Z"
   },
   {
    "duration": 4,
    "start_time": "2024-05-19T21:35:01.334Z"
   },
   {
    "duration": 66,
    "start_time": "2024-05-19T21:35:01.345Z"
   },
   {
    "duration": 4979,
    "start_time": "2024-05-19T21:35:01.414Z"
   },
   {
    "duration": 4,
    "start_time": "2024-05-19T21:35:06.396Z"
   },
   {
    "duration": 7,
    "start_time": "2024-05-19T21:35:06.404Z"
   },
   {
    "duration": 14,
    "start_time": "2024-05-19T21:35:06.414Z"
   },
   {
    "duration": 15,
    "start_time": "2024-05-19T21:35:06.431Z"
   },
   {
    "duration": 77,
    "start_time": "2024-05-19T21:35:06.449Z"
   },
   {
    "duration": 56,
    "start_time": "2024-05-19T21:35:06.528Z"
   },
   {
    "duration": 57,
    "start_time": "2024-05-19T21:35:06.587Z"
   },
   {
    "duration": 11,
    "start_time": "2024-05-19T21:35:06.647Z"
   },
   {
    "duration": 205,
    "start_time": "2024-05-19T21:35:06.662Z"
   },
   {
    "duration": 6,
    "start_time": "2024-05-19T21:35:06.870Z"
   },
   {
    "duration": 4,
    "start_time": "2024-05-19T21:35:06.880Z"
   },
   {
    "duration": 30,
    "start_time": "2024-05-19T21:35:06.886Z"
   },
   {
    "duration": 6,
    "start_time": "2024-05-19T21:35:06.919Z"
   },
   {
    "duration": 7,
    "start_time": "2024-05-19T21:35:06.932Z"
   },
   {
    "duration": 146,
    "start_time": "2024-05-19T21:35:06.943Z"
   },
   {
    "duration": 6,
    "start_time": "2024-05-19T21:35:07.093Z"
   },
   {
    "duration": 4,
    "start_time": "2024-05-19T21:35:07.114Z"
   },
   {
    "duration": 15,
    "start_time": "2024-05-19T21:35:07.122Z"
   },
   {
    "duration": 6,
    "start_time": "2024-05-19T21:35:07.139Z"
   },
   {
    "duration": 65,
    "start_time": "2024-05-19T21:35:07.147Z"
   },
   {
    "duration": 5,
    "start_time": "2024-05-19T21:35:07.214Z"
   },
   {
    "duration": 6,
    "start_time": "2024-05-19T21:35:07.222Z"
   },
   {
    "duration": 91,
    "start_time": "2024-05-19T21:35:07.231Z"
   },
   {
    "duration": 5,
    "start_time": "2024-05-19T21:35:07.324Z"
   },
   {
    "duration": 86,
    "start_time": "2024-05-19T21:35:07.332Z"
   }
  ],
  "kernelspec": {
   "display_name": "Python 3 (ipykernel)",
   "language": "python",
   "name": "python3"
  },
  "language_info": {
   "codemirror_mode": {
    "name": "ipython",
    "version": 3
   },
   "file_extension": ".py",
   "mimetype": "text/x-python",
   "name": "python",
   "nbconvert_exporter": "python",
   "pygments_lexer": "ipython3",
   "version": "3.9.19"
  },
  "toc": {
   "base_numbering": 1,
   "nav_menu": {},
   "number_sections": true,
   "sideBar": true,
   "skip_h1_title": true,
   "title_cell": "Table of Contents",
   "title_sidebar": "Contents",
   "toc_cell": false,
   "toc_position": {},
   "toc_section_display": true,
   "toc_window_display": false
  }
 },
 "nbformat": 4,
 "nbformat_minor": 4
}
